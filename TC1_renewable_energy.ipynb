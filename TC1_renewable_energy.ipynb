{
 "cells": [
  {
   "cell_type": "code",
   "execution_count": 22,
   "metadata": {},
   "outputs": [],
   "source": [
    "import pandas as pd\n",
    "import numpy as np\n",
    "import plotly.graph_objects as go\n",
    "from sko.GA import RCGA\n",
    "\n",
    "from src.train import train_neural_network_bp, prepare_data\n",
    "from src.load_data import load_data_energy, create_lag_features\n",
    "from src.draw import draw_neural_network"
   ]
  },
  {
   "cell_type": "code",
   "execution_count": 23,
   "metadata": {},
   "outputs": [],
   "source": [
    "\"\"\"\n",
    "Parâmetros\n",
    "\"\"\"\n",
    "\n",
    "# Ordem do modelo\n",
    "LAG_FEATURES = 5\n",
    "\n",
    "# Max Número de neurônios na camada oculta\n",
    "MAX_HIDDEN_NEURONS = 50\n",
    "\n",
    "# Algoritmo Evolutivo\n",
    "EA_SIZE_POP = 8\n",
    "EA_MAX_ITER = 20\n",
    "EA_PROB_MUT = 0.08\n",
    "EA_PROB_CROS = 0.9\n",
    "\n",
    "# PSO\n",
    "PSO_NUM_PARTICLES = 100\n",
    "PSO_MAX_ITER = 300\n",
    "PSO_w = 0.7\n",
    "PSO_c1 = 1.5\n",
    "PSO_c2 = 2\n",
    "PSO_NUM_RUNS = 5"
   ]
  },
  {
   "cell_type": "code",
   "execution_count": 24,
   "metadata": {},
   "outputs": [
    {
     "data": {
      "image/svg+xml": [
       "<svg class=\"main-svg\" xmlns=\"http://www.w3.org/2000/svg\" xmlns:xlink=\"http://www.w3.org/1999/xlink\" width=\"700\" height=\"500\" style=\"\" viewBox=\"0 0 700 500\"><rect x=\"0\" y=\"0\" width=\"700\" height=\"500\" style=\"fill: rgb(255, 255, 255); fill-opacity: 1;\"/><defs id=\"defs-cd0cde\"><g class=\"clips\"><clipPath id=\"clipcd0cdexyplot\" class=\"plotclip\"><rect width=\"540\" height=\"320\"/></clipPath><clipPath class=\"axesclip\" id=\"clipcd0cdex\"><rect x=\"80\" y=\"0\" width=\"540\" height=\"500\"/></clipPath><clipPath class=\"axesclip\" id=\"clipcd0cdey\"><rect x=\"0\" y=\"100\" width=\"700\" height=\"320\"/></clipPath><clipPath class=\"axesclip\" id=\"clipcd0cdexy\"><rect x=\"80\" y=\"100\" width=\"540\" height=\"320\"/></clipPath></g><g class=\"gradients\"/><g class=\"patterns\"/></defs><g class=\"bglayer\"><rect class=\"bg\" x=\"80\" y=\"100\" width=\"540\" height=\"320\" style=\"fill: rgb(229, 236, 246); fill-opacity: 1; stroke-width: 0;\"/></g><g class=\"layer-below\"><g class=\"imagelayer\"/><g class=\"shapelayer\"/></g><g class=\"cartesianlayer\"><g class=\"subplot xy\"><g class=\"layer-subplot\"><g class=\"shapelayer\"/><g class=\"imagelayer\"/></g><g class=\"minor-gridlayer\"><g class=\"x\"/><g class=\"y\"/></g><g class=\"gridlayer\"><g class=\"x\"><path class=\"xgrid crisp\" transform=\"translate(154.1,0)\" d=\"M0,100v320\" style=\"stroke: rgb(255, 255, 255); stroke-opacity: 1; stroke-width: 1px;\"/><path class=\"xgrid crisp\" transform=\"translate(260,0)\" d=\"M0,100v320\" style=\"stroke: rgb(255, 255, 255); stroke-opacity: 1; stroke-width: 1px;\"/><path class=\"xgrid crisp\" transform=\"translate(365.87,0)\" d=\"M0,100v320\" style=\"stroke: rgb(255, 255, 255); stroke-opacity: 1; stroke-width: 1px;\"/><path class=\"xgrid crisp\" transform=\"translate(471.77,0)\" d=\"M0,100v320\" style=\"stroke: rgb(255, 255, 255); stroke-opacity: 1; stroke-width: 1px;\"/><path class=\"xgrid crisp\" transform=\"translate(577.65,0)\" d=\"M0,100v320\" style=\"stroke: rgb(255, 255, 255); stroke-opacity: 1; stroke-width: 1px;\"/></g><g class=\"y\"><path class=\"ygrid crisp\" transform=\"translate(0,393.56)\" d=\"M80,0h540\" style=\"stroke: rgb(255, 255, 255); stroke-opacity: 1; stroke-width: 1px;\"/><path class=\"ygrid crisp\" transform=\"translate(0,322.51)\" d=\"M80,0h540\" style=\"stroke: rgb(255, 255, 255); stroke-opacity: 1; stroke-width: 1px;\"/><path class=\"ygrid crisp\" transform=\"translate(0,251.47)\" d=\"M80,0h540\" style=\"stroke: rgb(255, 255, 255); stroke-opacity: 1; stroke-width: 1px;\"/><path class=\"ygrid crisp\" transform=\"translate(0,180.43)\" d=\"M80,0h540\" style=\"stroke: rgb(255, 255, 255); stroke-opacity: 1; stroke-width: 1px;\"/><path class=\"ygrid crisp\" transform=\"translate(0,109.39)\" d=\"M80,0h540\" style=\"stroke: rgb(255, 255, 255); stroke-opacity: 1; stroke-width: 1px;\"/></g></g><g class=\"zerolinelayer\"/><g class=\"layer-between\"><g class=\"shapelayer\"/><g class=\"imagelayer\"/></g><path class=\"xlines-below\"/><path class=\"ylines-below\"/><g class=\"overlines-below\"/><g class=\"xaxislayer-below\"/><g class=\"yaxislayer-below\"/><g class=\"overaxes-below\"/><g class=\"plot\" transform=\"translate(80,100)\" clip-path=\"url(#clipcd0cdexyplot)\"><g class=\"scatterlayer mlayer\"><g class=\"trace scatter tracef6e514\" style=\"stroke-miterlimit: 2; opacity: 1;\"><g class=\"fills\"/><g class=\"errorbars\"/><g class=\"lines\"><path class=\"js-line\" d=\"M0,279.46L0.9,295.45L1.71,280.28L2.61,286.93L3.48,282.2L4.38,287.7L5.25,288.02L6.15,291.12L7.04,304L8.81,296.88L9.68,278.81L10.58,271.53L11.48,286.32L12.29,274.81L13.19,277.06L14.06,273.81L14.96,280.08L15.83,277.99L16.73,283.47L17.63,292.92L18.5,293.33L19.39,293.51L20.26,285.71L21.16,283.38L22.06,294.97L22.87,276.23L23.77,282.42L24.64,276.72L25.54,280.91L26.41,282.05L27.31,289.07L28.21,297.16L29.08,288.95L29.98,287.56L30.85,280.83L31.74,267.93L32.64,278.37L33.48,266.7L34.38,275.97L35.25,269.34L36.15,272.53L37.02,267.99L37.92,273.43L38.82,285.27L39.69,280.19L40.59,286.48L41.46,282.02L42.35,273.02L43.25,297.45L44.07,275.24L44.96,281.76L45.83,278.05L46.73,285.21L47.6,282.83L48.5,282.99L49.4,287.18L50.27,281.67L51.17,277.46L52.04,268.16L52.94,250.45L53.83,269.45L54.65,251.74L55.55,254.28L56.41,241.91L57.31,254.69L58.18,252.31L59.08,257.57L59.98,264.08L60.85,264.36L61.75,267.12L62.62,257.83L63.52,243.83L64.42,265.58L65.23,241.35L66.13,247.01L67,234.08L67.89,248.01L68.76,249.23L69.66,252.76L70.56,262.68L71.43,255.51L72.33,254.26L73.2,249.06L74.1,223.78L75,242.98L75.84,226.12L76.74,227.46L77.61,214.93L78.51,222.78L79.38,225.68L80.27,235.42L81.17,245.1L82.04,241.65L82.94,243.18L83.81,230.95L84.71,223.29L85.61,241.63L86.42,227.57L87.32,232.31L88.19,219.16L89.09,218.74L89.96,216.65L90.86,225.28L91.75,239.45L92.62,233.8L93.52,236.86L94.39,219.94L95.29,209.19L96.19,225.3L97,202.21L97.9,212.09L98.77,206.61L99.67,211.64L100.54,208.09L101.44,216.47L102.34,231.36L103.21,226.42L104.1,222.97L104.97,207.24L105.87,189.76L106.77,209.99L107.58,187.31L108.48,193.7L109.35,185.24L110.25,191.8L111.12,192.32L112.02,197.53L112.92,213.29L113.79,209.97L114.69,206.17L115.55,183.74L116.45,185.49L117.35,201.22L118.19,183.39L119.09,190.28L119.96,180.09L120.86,193.22L121.73,190.64L122.63,196.11L123.53,212.21L124.4,206.26L125.3,208.46L126.17,193.99L127.06,187.2L127.96,208.84L128.77,194.2L129.67,201.08L130.54,190.25L131.44,202.36L132.31,202.5L133.21,205.61L134.11,214.5L134.98,205.78L135.88,203.95L136.75,192.16L138.54,220L139.36,190.46L140.25,198.53L141.12,193.59L142.02,201.4L142.89,200.88L144.69,214.12L145.56,208.13L146.46,209.41L147.33,196.29L148.23,201.71L149.13,228.53L149.94,206.94L150.84,215.55L151.71,204.62L152.6,217.88L153.47,214.07L154.37,218.41L155.27,224.89L156.14,220.04L157.04,228.19L157.91,212.36L158.81,201.98L159.71,220.94L160.55,208.07L161.45,214.89L162.32,204.15L163.21,215.34L164.08,214.2L164.98,215.35L165.88,221.81L166.75,218.92L167.65,216.63L168.52,207.38L169.42,192.29L170.32,213.74L171.13,185.34L172.03,193.45L172.9,190.89L173.8,191.14L174.67,189.88L175.56,185.19L176.46,196.97L177.33,186.36L178.23,184.06L179.1,178.63L180.9,210.56L181.71,187.83L184.38,233.66L185.25,214.88L186.15,203.01L187.04,217.54L187.91,217.01L188.81,224.7L190.58,176.82L191.48,231.65L192.29,214.18L193.19,231.36L194.06,212.45L194.96,217.06L195.83,220.17L196.73,197.75L197.63,194.55L198.5,209.37L199.39,213.28L200.26,187.18L201.16,180.02L202.06,223.07L202.9,219.29L203.8,232.79L204.67,239.84L205.57,210.43L207.34,193.56L208.24,210.09L210.87,184.55L211.77,176.27L212.67,211.71L213.48,185.83L215.25,218.6L216.15,224.87L217.02,220.94L217.92,194.2L218.82,210.04L219.69,205.85L220.59,201.05L221.46,191.81L222.35,165.94L223.25,210.88L224.07,190.03L224.96,204.36L225.83,225.75L226.73,218.42L227.6,180.89L228.5,204.69L229.4,223.93L230.27,197.92L231.17,202.33L232.04,195.24L232.94,203.66L233.83,229.32L235.55,186.13L236.41,205.44L237.31,199.1L238.18,156.88L239.08,157.61L239.98,193.11L240.85,168.65L241.75,181.38L242.62,177.38L243.52,167.84L244.42,196.88L245.26,167.73L246.16,208.9L247.03,186.15L248.79,157.83L249.69,155.88L250.59,192.36L251.46,157.34L253.23,172.69L254.13,159.33L255.03,198.01L255.84,170.9L256.74,175.54L257.61,159.85L258.51,183.59L259.38,170.58L260.27,177.26L261.17,197.98L262.04,157L262.94,188.77L263.81,190.45L264.71,169.04L265.61,211.53L266.42,185.66L267.32,194.89L268.19,175.52L269.09,222.55L269.96,187.2L270.86,190.57L271.75,206L272.62,197.35L273.52,222.68L275.29,170.86L276.19,208.71L277,205.46L277.9,191.04L278.77,157.52L279.67,190.52L280.54,171.84L281.44,186.64L283.21,223.91L284.1,203.05L285.87,216.12L286.77,205.47L287.61,183.46L288.51,185.04L289.38,187.04L290.28,210.67L291.15,194.26L292.05,198.92L292.95,220.88L293.82,201.71L294.71,202.66L295.58,207.69L297.38,249.89L298.19,229.71L299.09,238.88L299.96,237.51L300.86,231.84L301.73,232.59L302.63,228.09L303.53,245.83L304.4,237.26L305.3,243.35L307.06,222.17L307.96,245.68L310.54,209.98L311.44,212.59L312.31,205.32L313.21,224.5L314.11,231.05L314.98,223.33L315.88,227.63L316.75,215.41L317.65,222.43L318.54,239.81L319.36,214.28L320.25,215.87L321.12,203.65L322.02,206.46L322.89,205.65L323.79,212.55L324.69,230.32L325.56,226.84L326.46,226.54L327.33,204.62L328.23,204.97L329.13,222.53L329.97,208.76L330.86,214.19L332.63,205.3L333.5,201.28L335.3,218.91L336.17,216.3L337.07,216.6L337.94,191.88L338.84,197.63L339.74,215.85L340.55,202.44L341.45,209.93L342.32,193.18L343.21,196.88L344.08,191.04L344.98,202.69L345.88,219.72L346.75,215.53L347.65,215.66L348.52,200.84L349.42,182.28L350.32,209.79L351.13,197.45L352.03,196.51L352.9,184.54L353.8,188.63L354.67,190.23L355.56,199.9L356.46,216.76L357.33,211.61L358.23,207.46L359.1,197.1L360,182.79L360.9,219.5L361.71,190.05L362.61,194.63L363.48,186.82L364.38,198.03L365.25,192.36L366.15,198.8L367.04,216.46L367.91,208.67L368.81,209.32L369.68,193.59L370.58,175.13L371.48,201.18L372.32,180.81L373.22,182.73L374.09,166.62L374.99,167.9L375.86,170.9L376.76,183.63L377.66,205.09L378.52,196.6L379.42,198.62L380.29,184.07L381.19,180.61L382.09,208.02L382.9,179.69L383.8,178.72L384.67,165.17L385.57,166.22L387.34,176.42L388.24,194.03L389.11,177.17L390,175.41L391.77,152.03L392.67,176.82L393.48,147.92L394.38,157.3L396.15,132.18L397.02,141.06L398.82,163.58L399.69,157.15L400.59,149.19L401.46,133.83L402.35,131.1L403.25,151.96L404.07,116.66L404.96,124.04L405.83,116.87L406.73,115.81L407.6,120.97L408.5,133.31L409.4,153.96L410.27,145.9L411.17,138.79L412.04,125.4L412.94,130.23L413.83,156.68L414.68,127.01L415.57,139.2L416.44,123.57L417.34,133.01L418.21,135.81L419.11,142.84L420.01,164.48L420.88,153.91L421.78,153.69L422.65,128.41L423.55,116.38L424.45,150.02L426.16,115.62L427.03,100.86L427.92,110.89L428.79,107.39L430.59,145.3L431.46,131.39L432.36,126.82L433.23,112.17L434.13,103.73L435.03,144.63L435.84,95.5L436.74,98.48L438.51,97.14L439.38,101.44L441.17,137.27L442.04,121.92L443.81,102.21L444.71,102.2L445.61,128.85L446.42,104.34L447.32,108.53L448.19,106.96L449.09,117.67L449.96,104.99L450.86,112.25L451.75,130.72L453.52,108.08L454.39,89.17L456.19,105.34L457.03,80.82L457.93,99.68L458.8,93.64L459.7,106.08L460.57,98.29L462.36,126.42L463.23,113.33L464.13,110.98L465,71.72L465.9,83.28L466.8,107.42L467.61,57.82L468.51,72.35L469.38,59.87L470.28,71.41L472.95,114.4L473.82,95.77L474.71,97.92L475.58,85.2L476.48,66.44L477.38,92.9L478.19,57.98L479.09,62.93L479.96,50.45L480.86,58.29L481.73,75.66L482.63,75.84L483.53,106.09L484.4,92.56L485.3,92.62L486.17,77.41L487.06,73.63L487.96,103.77L488.77,63.57L489.67,59.62L490.54,46.34L491.44,65.01L492.31,63.92L493.21,75.78L494.11,93.16L494.98,82.83L495.88,91.43L496.75,77.05L497.65,75.27L498.54,80.14L499.38,74.88L500.28,99.94L501.15,69.67L502.05,69.34L503.82,88.1L504.72,112.74L506.49,83.48L507.36,79.12L508.26,76.78L509.15,119L509.97,51.2L510.86,65.26L511.73,46.17L512.63,68.83L513.5,74.74L514.4,72.61L515.3,87.45L516.17,78.55L517.07,72.41L517.94,46.82L518.84,46.02L519.74,68.63L520.55,21.91L521.45,28.7L522.32,16L523.21,29.95L524.08,37.69L524.98,63.73L525.88,87.59L526.75,76.97L527.65,58.82L528.52,61.37L529.42,46.71L530.32,66.71L531.13,30.48L532.03,45.68L532.9,27.79L533.8,63.84L534.67,48.26L535.56,50.83L536.46,80.76L537.33,57.16L538.23,66.48L539.1,56.4L540,64.97\" style=\"vector-effect: none; fill: none; stroke: rgb(99, 110, 250); stroke-opacity: 1; stroke-width: 2px; opacity: 1;\"/></g><g class=\"points\"/><g class=\"text\"/></g></g></g><g class=\"overplot\"/><path class=\"xlines-above crisp\" d=\"M0,0\" style=\"fill: none;\"/><path class=\"ylines-above crisp\" d=\"M0,0\" style=\"fill: none;\"/><g class=\"overlines-above\"/><g class=\"xaxislayer-above\"><g class=\"xtick\"><text text-anchor=\"middle\" x=\"0\" y=\"433\" transform=\"translate(154.1,0)\" style=\"font-family: 'Open Sans', verdana, arial, sans-serif; font-size: 12px; fill: rgb(42, 63, 95); fill-opacity: 1; white-space: pre; opacity: 1;\">1980</text></g><g class=\"xtick\"><text text-anchor=\"middle\" x=\"0\" y=\"433\" style=\"font-family: 'Open Sans', verdana, arial, sans-serif; font-size: 12px; fill: rgb(42, 63, 95); fill-opacity: 1; white-space: pre; opacity: 1;\" transform=\"translate(260,0)\">1990</text></g><g class=\"xtick\"><text text-anchor=\"middle\" x=\"0\" y=\"433\" style=\"font-family: 'Open Sans', verdana, arial, sans-serif; font-size: 12px; fill: rgb(42, 63, 95); fill-opacity: 1; white-space: pre; opacity: 1;\" transform=\"translate(365.87,0)\">2000</text></g><g class=\"xtick\"><text text-anchor=\"middle\" x=\"0\" y=\"433\" style=\"font-family: 'Open Sans', verdana, arial, sans-serif; font-size: 12px; fill: rgb(42, 63, 95); fill-opacity: 1; white-space: pre; opacity: 1;\" transform=\"translate(471.77,0)\">2010</text></g><g class=\"xtick\"><text text-anchor=\"middle\" x=\"0\" y=\"433\" style=\"font-family: 'Open Sans', verdana, arial, sans-serif; font-size: 12px; fill: rgb(42, 63, 95); fill-opacity: 1; white-space: pre; opacity: 1;\" transform=\"translate(577.65,0)\">2020</text></g></g><g class=\"yaxislayer-above\"><g class=\"ytick\"><text text-anchor=\"end\" x=\"79\" y=\"4.199999999999999\" transform=\"translate(0,393.56)\" style=\"font-family: 'Open Sans', verdana, arial, sans-serif; font-size: 12px; fill: rgb(42, 63, 95); fill-opacity: 1; white-space: pre; opacity: 1;\">200</text></g><g class=\"ytick\"><text text-anchor=\"end\" x=\"79\" y=\"4.199999999999999\" style=\"font-family: 'Open Sans', verdana, arial, sans-serif; font-size: 12px; fill: rgb(42, 63, 95); fill-opacity: 1; white-space: pre; opacity: 1;\" transform=\"translate(0,322.51)\">300</text></g><g class=\"ytick\"><text text-anchor=\"end\" x=\"79\" y=\"4.199999999999999\" style=\"font-family: 'Open Sans', verdana, arial, sans-serif; font-size: 12px; fill: rgb(42, 63, 95); fill-opacity: 1; white-space: pre; opacity: 1;\" transform=\"translate(0,251.47)\">400</text></g><g class=\"ytick\"><text text-anchor=\"end\" x=\"79\" y=\"4.199999999999999\" style=\"font-family: 'Open Sans', verdana, arial, sans-serif; font-size: 12px; fill: rgb(42, 63, 95); fill-opacity: 1; white-space: pre; opacity: 1;\" transform=\"translate(0,180.43)\">500</text></g><g class=\"ytick\"><text text-anchor=\"end\" x=\"79\" y=\"4.199999999999999\" style=\"font-family: 'Open Sans', verdana, arial, sans-serif; font-size: 12px; fill: rgb(42, 63, 95); fill-opacity: 1; white-space: pre; opacity: 1;\" transform=\"translate(0,109.39)\">600</text></g></g><g class=\"overaxes-above\"/></g></g><g class=\"polarlayer\"/><g class=\"smithlayer\"/><g class=\"ternarylayer\"/><g class=\"geolayer\"/><g class=\"funnelarealayer\"/><g class=\"pielayer\"/><g class=\"iciclelayer\"/><g class=\"treemaplayer\"/><g class=\"sunburstlayer\"/><g class=\"glimages\"/><defs id=\"topdefs-cd0cde\"><g class=\"clips\"/></defs><g class=\"layer-above\"><g class=\"imagelayer\"/><g class=\"shapelayer\"/></g><g class=\"infolayer\"><g class=\"g-gtitle\"><text class=\"gtitle\" x=\"35\" y=\"50\" text-anchor=\"start\" dy=\"0em\" style=\"font-family: 'Open Sans', verdana, arial, sans-serif; font-size: 17px; fill: rgb(42, 63, 95); opacity: 1; white-space: pre;\">Consumo Total de Energia Renovável</text></g><g class=\"g-xtitle\"><text class=\"xtitle\" x=\"350\" y=\"460.3\" text-anchor=\"middle\" style=\"font-family: 'Open Sans', verdana, arial, sans-serif; font-size: 14px; fill: rgb(42, 63, 95); opacity: 1; white-space: pre;\">Data</text></g><g class=\"g-ytitle\"><text class=\"ytitle\" transform=\"rotate(-90,39.56875,260)\" x=\"39.56875\" y=\"260\" text-anchor=\"middle\" style=\"font-family: 'Open Sans', verdana, arial, sans-serif; font-size: 14px; fill: rgb(42, 63, 95); opacity: 1; white-space: pre;\">Energia Renovável (Tril. de BTUs)</text></g></g></svg>"
      ]
     },
     "metadata": {},
     "output_type": "display_data"
    }
   ],
   "source": [
    "\"\"\"\n",
    "Criando a Série Temporal\n",
    "\"\"\"\n",
    "ts = load_data_energy()\n",
    "\n",
    "fig = go.Figure()\n",
    "fig.add_trace(go.Scatter(x=ts['dt'], y=ts['Total Renewable Energy'], mode='lines', name='Avg Temp'))\n",
    "fig.update_layout(title='Consumo Total de Energia Renovável ', xaxis_title='Data', yaxis_title='Energia Renovável (Tril. de BTUs)')\n",
    "fig.show('svg')"
   ]
  },
  {
   "cell_type": "code",
   "execution_count": 25,
   "metadata": {},
   "outputs": [
    {
     "data": {
      "text/html": [
       "<div>\n",
       "<style scoped>\n",
       "    .dataframe tbody tr th:only-of-type {\n",
       "        vertical-align: middle;\n",
       "    }\n",
       "\n",
       "    .dataframe tbody tr th {\n",
       "        vertical-align: top;\n",
       "    }\n",
       "\n",
       "    .dataframe thead th {\n",
       "        text-align: right;\n",
       "    }\n",
       "</style>\n",
       "<table border=\"1\" class=\"dataframe\">\n",
       "  <thead>\n",
       "    <tr style=\"text-align: right;\">\n",
       "      <th></th>\n",
       "      <th>dt</th>\n",
       "      <th>Total Renewable Energy</th>\n",
       "      <th>Total Renewable Energy_lag_1</th>\n",
       "      <th>Total Renewable Energy_lag_2</th>\n",
       "      <th>Total Renewable Energy_lag_3</th>\n",
       "      <th>Total Renewable Energy_lag_4</th>\n",
       "      <th>Total Renewable Energy_lag_5</th>\n",
       "    </tr>\n",
       "  </thead>\n",
       "  <tbody>\n",
       "    <tr>\n",
       "      <th>5</th>\n",
       "      <td>1973-06-01</td>\n",
       "      <td>208.249</td>\n",
       "      <td>219.840</td>\n",
       "      <td>197.330</td>\n",
       "      <td>218.687</td>\n",
       "      <td>209.330</td>\n",
       "      <td>215.982</td>\n",
       "    </tr>\n",
       "    <tr>\n",
       "      <th>6</th>\n",
       "      <td>1973-07-01</td>\n",
       "      <td>207.800</td>\n",
       "      <td>197.330</td>\n",
       "      <td>218.687</td>\n",
       "      <td>209.330</td>\n",
       "      <td>215.982</td>\n",
       "      <td>208.249</td>\n",
       "    </tr>\n",
       "    <tr>\n",
       "      <th>7</th>\n",
       "      <td>1973-08-01</td>\n",
       "      <td>203.432</td>\n",
       "      <td>218.687</td>\n",
       "      <td>209.330</td>\n",
       "      <td>215.982</td>\n",
       "      <td>208.249</td>\n",
       "      <td>207.800</td>\n",
       "    </tr>\n",
       "    <tr>\n",
       "      <th>8</th>\n",
       "      <td>1973-09-01</td>\n",
       "      <td>185.300</td>\n",
       "      <td>209.330</td>\n",
       "      <td>215.982</td>\n",
       "      <td>208.249</td>\n",
       "      <td>207.800</td>\n",
       "      <td>203.432</td>\n",
       "    </tr>\n",
       "    <tr>\n",
       "      <th>9</th>\n",
       "      <td>1973-10-01</td>\n",
       "      <td>193.515</td>\n",
       "      <td>215.982</td>\n",
       "      <td>208.249</td>\n",
       "      <td>207.800</td>\n",
       "      <td>203.432</td>\n",
       "      <td>185.300</td>\n",
       "    </tr>\n",
       "  </tbody>\n",
       "</table>\n",
       "</div>"
      ],
      "text/plain": [
       "          dt  Total Renewable Energy  Total Renewable Energy_lag_1  \\\n",
       "5 1973-06-01                 208.249                       219.840   \n",
       "6 1973-07-01                 207.800                       197.330   \n",
       "7 1973-08-01                 203.432                       218.687   \n",
       "8 1973-09-01                 185.300                       209.330   \n",
       "9 1973-10-01                 193.515                       215.982   \n",
       "\n",
       "   Total Renewable Energy_lag_2  Total Renewable Energy_lag_3  \\\n",
       "5                       197.330                       218.687   \n",
       "6                       218.687                       209.330   \n",
       "7                       209.330                       215.982   \n",
       "8                       215.982                       208.249   \n",
       "9                       208.249                       207.800   \n",
       "\n",
       "   Total Renewable Energy_lag_4  Total Renewable Energy_lag_5  \n",
       "5                       209.330                       215.982  \n",
       "6                       215.982                       208.249  \n",
       "7                       208.249                       207.800  \n",
       "8                       207.800                       203.432  \n",
       "9                       203.432                       185.300  "
      ]
     },
     "execution_count": 25,
     "metadata": {},
     "output_type": "execute_result"
    }
   ],
   "source": [
    "\"\"\"\n",
    "Escolhendo o numero de lag features (ordem do modelo)\n",
    "\"\"\"\n",
    "ts_with_lags = create_lag_features(ts, LAG_FEATURES)\n",
    "ts_with_lags.head()"
   ]
  },
  {
   "cell_type": "code",
   "execution_count": 26,
   "metadata": {},
   "outputs": [
    {
     "name": "stdout",
     "output_type": "stream",
     "text": [
      "Percent of data in training set: 80.10%\n",
      "Percent of data in test set: 19.90%\n",
      "Standardizing features...\n",
      "Standardization complete.\n"
     ]
    }
   ],
   "source": [
    "\"\"\"\n",
    "Preparando split de treino e teste\n",
    "\"\"\"\n",
    "X_train, y_train, X_test, y_test = prepare_data(ts_with_lags)"
   ]
  },
  {
   "cell_type": "code",
   "execution_count": 27,
   "metadata": {},
   "outputs": [
    {
     "name": "stderr",
     "output_type": "stream",
     "text": [
      "/home/victor/Git/TC1-NC/.venv/lib/python3.10/site-packages/sklearn/neural_network/_multilayer_perceptron.py:690: ConvergenceWarning:\n",
      "\n",
      "Stochastic Optimizer: Maximum iterations (1000) reached and the optimization hasn't converged yet.\n",
      "\n",
      "/home/victor/Git/TC1-NC/.venv/lib/python3.10/site-packages/sklearn/neural_network/_multilayer_perceptron.py:690: ConvergenceWarning:\n",
      "\n",
      "Stochastic Optimizer: Maximum iterations (1000) reached and the optimization hasn't converged yet.\n",
      "\n",
      "/home/victor/Git/TC1-NC/.venv/lib/python3.10/site-packages/sklearn/neural_network/_multilayer_perceptron.py:690: ConvergenceWarning:\n",
      "\n",
      "Stochastic Optimizer: Maximum iterations (1000) reached and the optimization hasn't converged yet.\n",
      "\n",
      "/home/victor/Git/TC1-NC/.venv/lib/python3.10/site-packages/sklearn/neural_network/_multilayer_perceptron.py:690: ConvergenceWarning:\n",
      "\n",
      "Stochastic Optimizer: Maximum iterations (1000) reached and the optimization hasn't converged yet.\n",
      "\n",
      "/home/victor/Git/TC1-NC/.venv/lib/python3.10/site-packages/sklearn/neural_network/_multilayer_perceptron.py:690: ConvergenceWarning:\n",
      "\n",
      "Stochastic Optimizer: Maximum iterations (1000) reached and the optimization hasn't converged yet.\n",
      "\n",
      "/home/victor/Git/TC1-NC/.venv/lib/python3.10/site-packages/sklearn/neural_network/_multilayer_perceptron.py:690: ConvergenceWarning:\n",
      "\n",
      "Stochastic Optimizer: Maximum iterations (1000) reached and the optimization hasn't converged yet.\n",
      "\n",
      "/home/victor/Git/TC1-NC/.venv/lib/python3.10/site-packages/sklearn/neural_network/_multilayer_perceptron.py:690: ConvergenceWarning:\n",
      "\n",
      "Stochastic Optimizer: Maximum iterations (1000) reached and the optimization hasn't converged yet.\n",
      "\n",
      "/home/victor/Git/TC1-NC/.venv/lib/python3.10/site-packages/sklearn/neural_network/_multilayer_perceptron.py:690: ConvergenceWarning:\n",
      "\n",
      "Stochastic Optimizer: Maximum iterations (1000) reached and the optimization hasn't converged yet.\n",
      "\n",
      "/home/victor/Git/TC1-NC/.venv/lib/python3.10/site-packages/sklearn/neural_network/_multilayer_perceptron.py:690: ConvergenceWarning:\n",
      "\n",
      "Stochastic Optimizer: Maximum iterations (1000) reached and the optimization hasn't converged yet.\n",
      "\n",
      "/home/victor/Git/TC1-NC/.venv/lib/python3.10/site-packages/sklearn/neural_network/_multilayer_perceptron.py:690: ConvergenceWarning:\n",
      "\n",
      "Stochastic Optimizer: Maximum iterations (1000) reached and the optimization hasn't converged yet.\n",
      "\n"
     ]
    },
    {
     "name": "stdout",
     "output_type": "stream",
     "text": [
      "Best individual: [4.96664675 0.78805997 5.64645278 3.18006765]\n",
      "Best RMSE: [24.54398312]\n"
     ]
    }
   ],
   "source": [
    "\"\"\"\n",
    "Usando o GA para otimizar o número de neurônios na camada oculta e a taxa de aprendizado\n",
    "\n",
    "O indivíduo é uma lista com 4 elementos:\n",
    "    - 1º elemento: número de neurônios na camada oculta (dezena)\n",
    "    - 2º elemento: número de neurônios na camada oculta (unidade)\n",
    "    - 3º elemento: taxa de aprendizado (primeiro dígito)\n",
    "    - 4º elemento: taxa de aprendizado (segundo dígito)\n",
    "A taxa de aprendizado é obtida com a formula:\n",
    "    0.001 + (individual[2] * 10 + individual[3]) * (0.01 - 0.001) / 99\n",
    "\"\"\"\n",
    "\n",
    "def evaluate(individual):     \n",
    "    return train_neural_network_bp(individual, X_train, y_train, X_test, y_test, MAX_HIDDEN_NEURONS)\n",
    "\n",
    "# RCGA is a real-coded genetic algorithm\n",
    "ga = RCGA(\n",
    "    func=evaluate,\n",
    "    n_dim=4,\n",
    "    size_pop=EA_SIZE_POP,\n",
    "    max_iter=EA_MAX_ITER,\n",
    "    prob_mut=EA_PROB_MUT,\n",
    "    prob_cros=EA_PROB_CROS,\n",
    "    lb=[0] * 4,\n",
    "    ub=[9] * 4,\n",
    ")\n",
    "\n",
    "# Run the GA optimization\n",
    "best_individual, best_rmse = ga.run()\n",
    "\n",
    "print(f\"Best individual: {best_individual}\")\n",
    "print(f\"Best RMSE: {best_rmse}\")"
   ]
  },
  {
   "cell_type": "code",
   "execution_count": 28,
   "metadata": {},
   "outputs": [
    {
     "data": {
      "application/vnd.plotly.v1+json": {
       "config": {
        "plotlyServerURL": "https://plot.ly"
       },
       "data": [
        {
         "mode": "lines+markers",
         "name": "Best Fitness",
         "type": "scatter",
         "x": [
          0,
          1,
          2,
          3,
          4,
          5,
          6,
          7,
          8,
          9,
          10,
          11,
          12,
          13,
          14,
          15,
          16,
          17,
          18,
          19
         ],
         "y": [
          24.60903765789932,
          24.60903765789932,
          24.5492527918825,
          24.5492527918825,
          24.5492527918825,
          24.54398311902298,
          24.5492527918825,
          24.547895579606166,
          24.547895579606166,
          24.547895579606166,
          24.547895579606166,
          24.547895579606166,
          24.547895579606166,
          24.547895579606166,
          24.547895579606166,
          24.547895579606166,
          24.547895579606166,
          24.547895579606166,
          24.547895579606166,
          24.54398311902298
         ]
        }
       ],
       "layout": {
        "template": {
         "data": {
          "bar": [
           {
            "error_x": {
             "color": "#2a3f5f"
            },
            "error_y": {
             "color": "#2a3f5f"
            },
            "marker": {
             "line": {
              "color": "#E5ECF6",
              "width": 0.5
             },
             "pattern": {
              "fillmode": "overlay",
              "size": 10,
              "solidity": 0.2
             }
            },
            "type": "bar"
           }
          ],
          "barpolar": [
           {
            "marker": {
             "line": {
              "color": "#E5ECF6",
              "width": 0.5
             },
             "pattern": {
              "fillmode": "overlay",
              "size": 10,
              "solidity": 0.2
             }
            },
            "type": "barpolar"
           }
          ],
          "carpet": [
           {
            "aaxis": {
             "endlinecolor": "#2a3f5f",
             "gridcolor": "white",
             "linecolor": "white",
             "minorgridcolor": "white",
             "startlinecolor": "#2a3f5f"
            },
            "baxis": {
             "endlinecolor": "#2a3f5f",
             "gridcolor": "white",
             "linecolor": "white",
             "minorgridcolor": "white",
             "startlinecolor": "#2a3f5f"
            },
            "type": "carpet"
           }
          ],
          "choropleth": [
           {
            "colorbar": {
             "outlinewidth": 0,
             "ticks": ""
            },
            "type": "choropleth"
           }
          ],
          "contour": [
           {
            "colorbar": {
             "outlinewidth": 0,
             "ticks": ""
            },
            "colorscale": [
             [
              0,
              "#0d0887"
             ],
             [
              0.1111111111111111,
              "#46039f"
             ],
             [
              0.2222222222222222,
              "#7201a8"
             ],
             [
              0.3333333333333333,
              "#9c179e"
             ],
             [
              0.4444444444444444,
              "#bd3786"
             ],
             [
              0.5555555555555556,
              "#d8576b"
             ],
             [
              0.6666666666666666,
              "#ed7953"
             ],
             [
              0.7777777777777778,
              "#fb9f3a"
             ],
             [
              0.8888888888888888,
              "#fdca26"
             ],
             [
              1,
              "#f0f921"
             ]
            ],
            "type": "contour"
           }
          ],
          "contourcarpet": [
           {
            "colorbar": {
             "outlinewidth": 0,
             "ticks": ""
            },
            "type": "contourcarpet"
           }
          ],
          "heatmap": [
           {
            "colorbar": {
             "outlinewidth": 0,
             "ticks": ""
            },
            "colorscale": [
             [
              0,
              "#0d0887"
             ],
             [
              0.1111111111111111,
              "#46039f"
             ],
             [
              0.2222222222222222,
              "#7201a8"
             ],
             [
              0.3333333333333333,
              "#9c179e"
             ],
             [
              0.4444444444444444,
              "#bd3786"
             ],
             [
              0.5555555555555556,
              "#d8576b"
             ],
             [
              0.6666666666666666,
              "#ed7953"
             ],
             [
              0.7777777777777778,
              "#fb9f3a"
             ],
             [
              0.8888888888888888,
              "#fdca26"
             ],
             [
              1,
              "#f0f921"
             ]
            ],
            "type": "heatmap"
           }
          ],
          "heatmapgl": [
           {
            "colorbar": {
             "outlinewidth": 0,
             "ticks": ""
            },
            "colorscale": [
             [
              0,
              "#0d0887"
             ],
             [
              0.1111111111111111,
              "#46039f"
             ],
             [
              0.2222222222222222,
              "#7201a8"
             ],
             [
              0.3333333333333333,
              "#9c179e"
             ],
             [
              0.4444444444444444,
              "#bd3786"
             ],
             [
              0.5555555555555556,
              "#d8576b"
             ],
             [
              0.6666666666666666,
              "#ed7953"
             ],
             [
              0.7777777777777778,
              "#fb9f3a"
             ],
             [
              0.8888888888888888,
              "#fdca26"
             ],
             [
              1,
              "#f0f921"
             ]
            ],
            "type": "heatmapgl"
           }
          ],
          "histogram": [
           {
            "marker": {
             "pattern": {
              "fillmode": "overlay",
              "size": 10,
              "solidity": 0.2
             }
            },
            "type": "histogram"
           }
          ],
          "histogram2d": [
           {
            "colorbar": {
             "outlinewidth": 0,
             "ticks": ""
            },
            "colorscale": [
             [
              0,
              "#0d0887"
             ],
             [
              0.1111111111111111,
              "#46039f"
             ],
             [
              0.2222222222222222,
              "#7201a8"
             ],
             [
              0.3333333333333333,
              "#9c179e"
             ],
             [
              0.4444444444444444,
              "#bd3786"
             ],
             [
              0.5555555555555556,
              "#d8576b"
             ],
             [
              0.6666666666666666,
              "#ed7953"
             ],
             [
              0.7777777777777778,
              "#fb9f3a"
             ],
             [
              0.8888888888888888,
              "#fdca26"
             ],
             [
              1,
              "#f0f921"
             ]
            ],
            "type": "histogram2d"
           }
          ],
          "histogram2dcontour": [
           {
            "colorbar": {
             "outlinewidth": 0,
             "ticks": ""
            },
            "colorscale": [
             [
              0,
              "#0d0887"
             ],
             [
              0.1111111111111111,
              "#46039f"
             ],
             [
              0.2222222222222222,
              "#7201a8"
             ],
             [
              0.3333333333333333,
              "#9c179e"
             ],
             [
              0.4444444444444444,
              "#bd3786"
             ],
             [
              0.5555555555555556,
              "#d8576b"
             ],
             [
              0.6666666666666666,
              "#ed7953"
             ],
             [
              0.7777777777777778,
              "#fb9f3a"
             ],
             [
              0.8888888888888888,
              "#fdca26"
             ],
             [
              1,
              "#f0f921"
             ]
            ],
            "type": "histogram2dcontour"
           }
          ],
          "mesh3d": [
           {
            "colorbar": {
             "outlinewidth": 0,
             "ticks": ""
            },
            "type": "mesh3d"
           }
          ],
          "parcoords": [
           {
            "line": {
             "colorbar": {
              "outlinewidth": 0,
              "ticks": ""
             }
            },
            "type": "parcoords"
           }
          ],
          "pie": [
           {
            "automargin": true,
            "type": "pie"
           }
          ],
          "scatter": [
           {
            "fillpattern": {
             "fillmode": "overlay",
             "size": 10,
             "solidity": 0.2
            },
            "type": "scatter"
           }
          ],
          "scatter3d": [
           {
            "line": {
             "colorbar": {
              "outlinewidth": 0,
              "ticks": ""
             }
            },
            "marker": {
             "colorbar": {
              "outlinewidth": 0,
              "ticks": ""
             }
            },
            "type": "scatter3d"
           }
          ],
          "scattercarpet": [
           {
            "marker": {
             "colorbar": {
              "outlinewidth": 0,
              "ticks": ""
             }
            },
            "type": "scattercarpet"
           }
          ],
          "scattergeo": [
           {
            "marker": {
             "colorbar": {
              "outlinewidth": 0,
              "ticks": ""
             }
            },
            "type": "scattergeo"
           }
          ],
          "scattergl": [
           {
            "marker": {
             "colorbar": {
              "outlinewidth": 0,
              "ticks": ""
             }
            },
            "type": "scattergl"
           }
          ],
          "scattermapbox": [
           {
            "marker": {
             "colorbar": {
              "outlinewidth": 0,
              "ticks": ""
             }
            },
            "type": "scattermapbox"
           }
          ],
          "scatterpolar": [
           {
            "marker": {
             "colorbar": {
              "outlinewidth": 0,
              "ticks": ""
             }
            },
            "type": "scatterpolar"
           }
          ],
          "scatterpolargl": [
           {
            "marker": {
             "colorbar": {
              "outlinewidth": 0,
              "ticks": ""
             }
            },
            "type": "scatterpolargl"
           }
          ],
          "scatterternary": [
           {
            "marker": {
             "colorbar": {
              "outlinewidth": 0,
              "ticks": ""
             }
            },
            "type": "scatterternary"
           }
          ],
          "surface": [
           {
            "colorbar": {
             "outlinewidth": 0,
             "ticks": ""
            },
            "colorscale": [
             [
              0,
              "#0d0887"
             ],
             [
              0.1111111111111111,
              "#46039f"
             ],
             [
              0.2222222222222222,
              "#7201a8"
             ],
             [
              0.3333333333333333,
              "#9c179e"
             ],
             [
              0.4444444444444444,
              "#bd3786"
             ],
             [
              0.5555555555555556,
              "#d8576b"
             ],
             [
              0.6666666666666666,
              "#ed7953"
             ],
             [
              0.7777777777777778,
              "#fb9f3a"
             ],
             [
              0.8888888888888888,
              "#fdca26"
             ],
             [
              1,
              "#f0f921"
             ]
            ],
            "type": "surface"
           }
          ],
          "table": [
           {
            "cells": {
             "fill": {
              "color": "#EBF0F8"
             },
             "line": {
              "color": "white"
             }
            },
            "header": {
             "fill": {
              "color": "#C8D4E3"
             },
             "line": {
              "color": "white"
             }
            },
            "type": "table"
           }
          ]
         },
         "layout": {
          "annotationdefaults": {
           "arrowcolor": "#2a3f5f",
           "arrowhead": 0,
           "arrowwidth": 1
          },
          "autotypenumbers": "strict",
          "coloraxis": {
           "colorbar": {
            "outlinewidth": 0,
            "ticks": ""
           }
          },
          "colorscale": {
           "diverging": [
            [
             0,
             "#8e0152"
            ],
            [
             0.1,
             "#c51b7d"
            ],
            [
             0.2,
             "#de77ae"
            ],
            [
             0.3,
             "#f1b6da"
            ],
            [
             0.4,
             "#fde0ef"
            ],
            [
             0.5,
             "#f7f7f7"
            ],
            [
             0.6,
             "#e6f5d0"
            ],
            [
             0.7,
             "#b8e186"
            ],
            [
             0.8,
             "#7fbc41"
            ],
            [
             0.9,
             "#4d9221"
            ],
            [
             1,
             "#276419"
            ]
           ],
           "sequential": [
            [
             0,
             "#0d0887"
            ],
            [
             0.1111111111111111,
             "#46039f"
            ],
            [
             0.2222222222222222,
             "#7201a8"
            ],
            [
             0.3333333333333333,
             "#9c179e"
            ],
            [
             0.4444444444444444,
             "#bd3786"
            ],
            [
             0.5555555555555556,
             "#d8576b"
            ],
            [
             0.6666666666666666,
             "#ed7953"
            ],
            [
             0.7777777777777778,
             "#fb9f3a"
            ],
            [
             0.8888888888888888,
             "#fdca26"
            ],
            [
             1,
             "#f0f921"
            ]
           ],
           "sequentialminus": [
            [
             0,
             "#0d0887"
            ],
            [
             0.1111111111111111,
             "#46039f"
            ],
            [
             0.2222222222222222,
             "#7201a8"
            ],
            [
             0.3333333333333333,
             "#9c179e"
            ],
            [
             0.4444444444444444,
             "#bd3786"
            ],
            [
             0.5555555555555556,
             "#d8576b"
            ],
            [
             0.6666666666666666,
             "#ed7953"
            ],
            [
             0.7777777777777778,
             "#fb9f3a"
            ],
            [
             0.8888888888888888,
             "#fdca26"
            ],
            [
             1,
             "#f0f921"
            ]
           ]
          },
          "colorway": [
           "#636efa",
           "#EF553B",
           "#00cc96",
           "#ab63fa",
           "#FFA15A",
           "#19d3f3",
           "#FF6692",
           "#B6E880",
           "#FF97FF",
           "#FECB52"
          ],
          "font": {
           "color": "#2a3f5f"
          },
          "geo": {
           "bgcolor": "white",
           "lakecolor": "white",
           "landcolor": "#E5ECF6",
           "showlakes": true,
           "showland": true,
           "subunitcolor": "white"
          },
          "hoverlabel": {
           "align": "left"
          },
          "hovermode": "closest",
          "mapbox": {
           "style": "light"
          },
          "paper_bgcolor": "white",
          "plot_bgcolor": "#E5ECF6",
          "polar": {
           "angularaxis": {
            "gridcolor": "white",
            "linecolor": "white",
            "ticks": ""
           },
           "bgcolor": "#E5ECF6",
           "radialaxis": {
            "gridcolor": "white",
            "linecolor": "white",
            "ticks": ""
           }
          },
          "scene": {
           "xaxis": {
            "backgroundcolor": "#E5ECF6",
            "gridcolor": "white",
            "gridwidth": 2,
            "linecolor": "white",
            "showbackground": true,
            "ticks": "",
            "zerolinecolor": "white"
           },
           "yaxis": {
            "backgroundcolor": "#E5ECF6",
            "gridcolor": "white",
            "gridwidth": 2,
            "linecolor": "white",
            "showbackground": true,
            "ticks": "",
            "zerolinecolor": "white"
           },
           "zaxis": {
            "backgroundcolor": "#E5ECF6",
            "gridcolor": "white",
            "gridwidth": 2,
            "linecolor": "white",
            "showbackground": true,
            "ticks": "",
            "zerolinecolor": "white"
           }
          },
          "shapedefaults": {
           "line": {
            "color": "#2a3f5f"
           }
          },
          "ternary": {
           "aaxis": {
            "gridcolor": "white",
            "linecolor": "white",
            "ticks": ""
           },
           "baxis": {
            "gridcolor": "white",
            "linecolor": "white",
            "ticks": ""
           },
           "bgcolor": "#E5ECF6",
           "caxis": {
            "gridcolor": "white",
            "linecolor": "white",
            "ticks": ""
           }
          },
          "title": {
           "x": 0.05
          },
          "xaxis": {
           "automargin": true,
           "gridcolor": "white",
           "linecolor": "white",
           "ticks": "",
           "title": {
            "standoff": 15
           },
           "zerolinecolor": "white",
           "zerolinewidth": 2
          },
          "yaxis": {
           "automargin": true,
           "gridcolor": "white",
           "linecolor": "white",
           "ticks": "",
           "title": {
            "standoff": 15
           },
           "zerolinecolor": "white",
           "zerolinewidth": 2
          }
         }
        },
        "title": {
         "text": "Best Fitness over Generations"
        },
        "xaxis": {
         "title": {
          "text": "Generation"
         }
        },
        "yaxis": {
         "title": {
          "text": "Best Fitness"
         }
        }
       }
      }
     },
     "metadata": {},
     "output_type": "display_data"
    }
   ],
   "source": [
    "\"\"\"\n",
    "Curva de convergência\n",
    "\"\"\"\n",
    "fig = go.Figure()\n",
    "fig.add_trace(go.Scatter(x=list(range(ga.max_iter)), y=ga.generation_best_Y, mode='lines+markers', name='Best Fitness'))\n",
    "fig.update_layout(\n",
    "    title='Best Fitness over Generations',\n",
    "    xaxis_title='Generation',\n",
    "    yaxis_title='Best Fitness'    \n",
    ")\n",
    "fig.show()"
   ]
  },
  {
   "cell_type": "code",
   "execution_count": 29,
   "metadata": {},
   "outputs": [],
   "source": [
    "\"\"\"\n",
    "Salvando os resultados\n",
    "\"\"\"\n",
    "import os\n",
    "if not os.path.exists(\"results\"):\n",
    "    os.makedirs(\"results\")\n",
    "\n",
    "if not os.path.exists(\"results/GA\"):\n",
    "    os.makedirs(\"results/GA\")\n",
    "\n",
    "pd.DataFrame({\"rmse\": ga.generation_best_Y, \"iteration\": range(ga.max_iter)}).to_csv(f\"results/GA/ga_energy_{LAG_FEATURES}.csv\", index=False)"
   ]
  },
  {
   "cell_type": "code",
   "execution_count": 30,
   "metadata": {},
   "outputs": [
    {
     "data": {
      "image/png": "[encoded data removed]",
      "text/plain": [
       "<Figure size 600x400 with 1 Axes>"
      ]
     },
     "metadata": {},
     "output_type": "display_data"
    },
    {
     "name": "stdout",
     "output_type": "stream",
     "text": [
      "Network parameters:\n",
      "Input size: 5\n",
      "Hidden size: 26\n",
      "Output size: 1\n",
      "Learning rate: 0.005818181818181819\n",
      "Number of parameters: 183\n"
     ]
    }
   ],
   "source": [
    "\"\"\"\n",
    "Configurações da melhor rede neural\n",
    "\"\"\"\n",
    "\n",
    "ind = best_individual.astype(int)\n",
    "best_learning_rate_init = 0.001 + (ind[2] * 10 + ind[3]) * (0.01 - 0.001) / 99\n",
    "best_learning_rate_init = min(max(best_learning_rate_init, 0.001), 0.01)\n",
    "best_hidden_neurons = int(MAX_HIDDEN_NEURONS * (best_individual[0] * 10 + best_individual[1]) / 99) + 1\n",
    "\n",
    "input_size = X_train.shape[1]\n",
    "output_size = 1\n",
    "draw_neural_network(X_train.shape[1], best_hidden_neurons, output_size=output_size, show_hidden=10)\n",
    "print(\"Network parameters:\")\n",
    "print(f\"Input size: {input_size}\")\n",
    "print(f\"Hidden size: {best_hidden_neurons}\")\n",
    "print(f\"Output size: {output_size}\")\n",
    "print(f\"Learning rate: {best_learning_rate_init}\")\n",
    "print(\n",
    "    f\"Number of parameters: {input_size * best_hidden_neurons + best_hidden_neurons + best_hidden_neurons * output_size + output_size}\"\n",
    ")"
   ]
  },
  {
   "cell_type": "code",
   "execution_count": 31,
   "metadata": {},
   "outputs": [
    {
     "name": "stdout",
     "output_type": "stream",
     "text": [
      "Best hidden neurons: 26\n",
      "Best learning rate: 0.005818181818181819\n",
      "Final RMSE: 24.54398311902298\n"
     ]
    },
    {
     "data": {
      "image/png": "[encoded data removed]"
     },
     "metadata": {},
     "output_type": "display_data"
    },
    {
     "name": "stdout",
     "output_type": "stream",
     "text": [
      "Final loss: 177.05050358018514\n"
     ]
    }
   ],
   "source": [
    "\"\"\"\n",
    "Treinando novamente a melhor rede neural, para observar a curva de perda\n",
    "\"\"\"\n",
    "\n",
    "from sklearn.neural_network import MLPRegressor\n",
    "from sklearn.metrics import root_mean_squared_error\n",
    "\n",
    "print(f\"Best hidden neurons: {best_hidden_neurons}\")\n",
    "print(f\"Best learning rate: {best_learning_rate_init}\")\n",
    "\n",
    "best_mlp = MLPRegressor(\n",
    "    hidden_layer_sizes=(best_hidden_neurons,),\n",
    "    learning_rate_init=best_learning_rate_init,\n",
    "    random_state=1234,\n",
    "    max_iter=1000,\n",
    ")\n",
    "\n",
    "best_mlp.fit(X_train, y_train)\n",
    "\n",
    "# Evaluate the final model\n",
    "final_predictions = best_mlp.predict(X_test)\n",
    "final_rmse = root_mean_squared_error(y_test, final_predictions)\n",
    "print(f\"Final RMSE: {final_rmse}\")\n",
    "\n",
    "# Loss chart\n",
    "fig = go.Figure()\n",
    "fig.add_trace(go.Scatter(x=best_mlp.loss_curve_, mode=\"lines\", name=\"Loss\"))\n",
    "fig.update_layout(title=\"Mudança Climática (ord. 5)\", xaxis_title=\"Época\", yaxis_title=\"Loss\")\n",
    "fig.show(\"png\")\n",
    "print(f\"Final loss: {best_mlp.loss_}\")"
   ]
  },
  {
   "cell_type": "code",
   "execution_count": 32,
   "metadata": {},
   "outputs": [
    {
     "data": {
      "text/plain": [
       "array([[-1.75979434, -2.16923209, -1.79776927, -1.97247363, -1.86053057],\n",
       "       [-2.16413892, -1.78609789, -1.9659929 , -1.85295763, -1.99941347],\n",
       "       [-1.78050555, -1.95395792, -1.84640077, -1.99189588, -2.00747741],\n",
       "       ...,\n",
       "       [ 2.75618321,  2.49143566,  2.57762721,  2.07398401,  1.60038895],\n",
       "       [ 2.50260113,  2.57984159,  2.08304218,  1.60934128,  1.95213104],\n",
       "       [ 2.59112224,  2.08632556,  1.6181035 ,  1.96122357,  2.06754052]])"
      ]
     },
     "execution_count": 32,
     "metadata": {},
     "output_type": "execute_result"
    }
   ],
   "source": [
    "X_train"
   ]
  },
  {
   "cell_type": "code",
   "execution_count": 33,
   "metadata": {},
   "outputs": [
    {
     "data": {
      "image/svg+xml": [
       "<svg class=\"main-svg\" xmlns=\"http://www.w3.org/2000/svg\" xmlns:xlink=\"http://www.w3.org/1999/xlink\" width=\"700\" height=\"500\" style=\"\" viewBox=\"0 0 700 500\"><rect x=\"0\" y=\"0\" width=\"700\" height=\"500\" style=\"fill: rgb(255, 255, 255); fill-opacity: 1;\"/><defs id=\"defs-696b39\"><g class=\"clips\"><clipPath id=\"clip696b39xyplot\" class=\"plotclip\"><rect width=\"524\" height=\"320\"/></clipPath><clipPath class=\"axesclip\" id=\"clip696b39x\"><rect x=\"80\" y=\"0\" width=\"524\" height=\"500\"/></clipPath><clipPath class=\"axesclip\" id=\"clip696b39y\"><rect x=\"0\" y=\"100\" width=\"700\" height=\"320\"/></clipPath><clipPath class=\"axesclip\" id=\"clip696b39xy\"><rect x=\"80\" y=\"100\" width=\"524\" height=\"320\"/></clipPath></g><g class=\"gradients\"/><g class=\"patterns\"/></defs><g class=\"bglayer\"><rect class=\"bg\" x=\"80\" y=\"100\" width=\"524\" height=\"320\" style=\"fill: rgb(229, 236, 246); fill-opacity: 1; stroke-width: 0;\"/></g><g class=\"layer-below\"><g class=\"imagelayer\"/><g class=\"shapelayer\"/></g><g class=\"cartesianlayer\"><g class=\"subplot xy\"><g class=\"layer-subplot\"><g class=\"shapelayer\"/><g class=\"imagelayer\"/></g><g class=\"minor-gridlayer\"><g class=\"x\"/><g class=\"y\"/></g><g class=\"gridlayer\"><g class=\"x\"><path class=\"xgrid crisp\" transform=\"translate(148.78,0)\" d=\"M0,100v320\" style=\"stroke: rgb(255, 255, 255); stroke-opacity: 1; stroke-width: 1px;\"/><path class=\"xgrid crisp\" transform=\"translate(253.25,0)\" d=\"M0,100v320\" style=\"stroke: rgb(255, 255, 255); stroke-opacity: 1; stroke-width: 1px;\"/><path class=\"xgrid crisp\" transform=\"translate(357.69,0)\" d=\"M0,100v320\" style=\"stroke: rgb(255, 255, 255); stroke-opacity: 1; stroke-width: 1px;\"/><path class=\"xgrid crisp\" transform=\"translate(462.15,0)\" d=\"M0,100v320\" style=\"stroke: rgb(255, 255, 255); stroke-opacity: 1; stroke-width: 1px;\"/><path class=\"xgrid crisp\" transform=\"translate(566.5899999999999,0)\" d=\"M0,100v320\" style=\"stroke: rgb(255, 255, 255); stroke-opacity: 1; stroke-width: 1px;\"/></g><g class=\"y\"><path class=\"ygrid crisp\" transform=\"translate(0,393.56)\" d=\"M80,0h524\" style=\"stroke: rgb(255, 255, 255); stroke-opacity: 1; stroke-width: 1px;\"/><path class=\"ygrid crisp\" transform=\"translate(0,322.51)\" d=\"M80,0h524\" style=\"stroke: rgb(255, 255, 255); stroke-opacity: 1; stroke-width: 1px;\"/><path class=\"ygrid crisp\" transform=\"translate(0,251.47)\" d=\"M80,0h524\" style=\"stroke: rgb(255, 255, 255); stroke-opacity: 1; stroke-width: 1px;\"/><path class=\"ygrid crisp\" transform=\"translate(0,180.43)\" d=\"M80,0h524\" style=\"stroke: rgb(255, 255, 255); stroke-opacity: 1; stroke-width: 1px;\"/><path class=\"ygrid crisp\" transform=\"translate(0,109.39)\" d=\"M80,0h524\" style=\"stroke: rgb(255, 255, 255); stroke-opacity: 1; stroke-width: 1px;\"/></g></g><g class=\"zerolinelayer\"/><g class=\"layer-between\"><g class=\"shapelayer\"/><g class=\"imagelayer\"/></g><path class=\"xlines-below\"/><path class=\"ylines-below\"/><g class=\"overlines-below\"/><g class=\"xaxislayer-below\"/><g class=\"yaxislayer-below\"/><g class=\"overaxes-below\"/><g class=\"plot\" transform=\"translate(80,100)\" clip-path=\"url(#clip696b39xyplot)\"><g class=\"scatterlayer mlayer\"><g class=\"trace scatter trace0d43ab\" style=\"stroke-miterlimit: 2; opacity: 1;\"><g class=\"fills\"/><g class=\"errorbars\"/><g class=\"lines\"><path class=\"js-line\" d=\"M0,287.7L0.86,288.02L1.74,291.12L2.63,304L3.49,298.16L4.38,296.88L5.23,278.81L6.12,271.53L7.01,286.32L7.81,274.81L8.69,277.06L9.55,273.81L10.44,280.08L11.3,277.99L12.18,283.47L13.07,292.92L13.93,293.33L14.81,293.51L15.67,285.71L16.56,283.38L17.44,294.97L18.25,276.23L19.13,282.42L19.99,276.72L20.88,280.91L21.73,282.05L22.62,289.07L23.51,297.16L24.37,288.95L25.25,287.56L26.11,280.83L27,267.93L27.88,278.37L28.71,266.7L29.6,275.97L30.46,269.34L31.34,272.53L32.2,267.99L33.09,273.43L33.97,285.27L34.83,280.19L35.72,286.48L36.58,282.02L37.46,273.02L38.35,297.45L39.15,275.24L40.04,281.76L40.9,278.05L41.78,285.21L42.64,282.83L43.53,282.99L44.41,287.18L45.27,281.67L46.16,277.46L47.02,268.16L47.9,250.45L48.79,269.45L49.59,251.74L50.48,254.28L51.33,241.91L52.22,254.69L53.08,252.31L53.96,257.57L54.85,264.08L55.71,264.36L56.6,267.12L57.45,257.83L58.34,243.83L59.23,265.58L60.03,241.35L60.91,247.01L61.77,234.08L62.66,248.01L63.52,249.23L64.4,252.76L65.29,262.68L66.15,255.51L67.03,254.26L67.89,249.06L68.78,223.78L69.66,242.98L70.49,226.12L71.38,227.46L72.24,214.93L73.12,222.78L73.98,225.68L74.87,235.42L75.76,245.1L76.61,241.65L77.5,243.18L78.36,230.95L79.24,223.29L80.13,241.63L80.93,227.57L81.82,232.31L82.68,219.16L83.56,218.74L84.42,216.65L85.31,225.28L86.19,239.45L87.05,233.8L87.94,236.86L88.8,219.94L89.68,209.19L90.57,225.3L91.37,202.21L92.26,212.09L93.11,206.61L94,211.64L94.86,208.09L95.75,216.47L96.63,231.36L97.49,226.42L98.38,222.97L99.23,207.24L100.12,189.76L101.01,209.99L101.81,187.31L102.7,193.7L103.55,185.24L104.44,191.8L105.3,192.32L106.18,197.53L107.07,213.29L107.93,209.97L108.82,206.17L109.67,183.74L110.56,185.49L111.45,201.22L112.28,183.39L113.16,190.28L114.02,180.09L114.91,193.22L115.76,190.64L116.65,196.11L117.54,212.21L118.4,206.26L119.28,208.46L120.14,193.99L121.03,187.2L121.91,208.84L122.71,194.2L123.6,201.08L124.46,190.25L125.34,202.36L126.2,202.5L127.09,205.61L127.98,214.5L128.83,205.78L129.72,203.95L130.58,192.16L132.35,220L133.15,190.46L134.04,198.53L134.9,193.59L135.78,201.4L136.64,200.88L138.41,214.12L139.27,208.13L140.16,209.41L141.02,196.29L141.9,201.71L142.79,228.53L143.59,206.94L144.48,215.55L145.33,204.62L146.22,217.88L147.08,214.07L147.97,218.41L148.85,224.89L149.71,220.04L150.6,228.19L151.45,212.36L152.34,201.98L153.23,220.94L154.06,208.07L154.94,214.89L155.8,204.15L156.69,215.34L157.55,214.2L158.43,215.35L159.32,221.81L160.18,218.92L161.06,216.63L161.92,207.38L162.81,192.29L163.69,213.74L164.5,185.34L165.38,193.45L166.24,190.89L167.13,191.14L167.98,189.88L168.87,185.19L169.76,196.97L170.62,186.36L171.5,184.06L172.36,178.63L174.13,210.56L174.93,187.83L177.56,233.66L178.42,214.88L179.31,203.01L180.2,217.54L181.05,217.01L181.94,224.7L183.68,176.82L184.57,231.65L185.37,214.18L186.26,231.36L187.12,212.45L188,217.06L188.86,220.17L189.75,197.75L190.63,194.55L191.49,209.37L192.38,213.28L193.24,187.18L194.12,180.02L195.01,223.07L195.84,219.29L196.73,232.79L197.58,239.84L198.47,210.43L200.21,193.56L201.1,210.09L203.7,184.55L204.59,176.27L205.48,211.71L206.28,185.83L208.02,218.6L208.91,224.87L209.77,220.94L210.65,194.2L211.54,210.04L212.4,205.85L213.28,201.05L214.14,191.81L215.03,165.94L215.91,210.88L216.72,190.03L217.6,204.36L218.46,225.75L219.35,218.42L220.2,180.89L221.09,204.69L221.98,223.93L222.84,197.92L223.72,202.33L224.58,195.24L225.47,203.66L226.35,229.32L228.04,186.13L228.9,205.44L229.78,199.1L230.64,156.88L231.53,157.61L232.42,193.11L233.27,168.65L234.16,181.38L235.02,177.38L235.9,167.84L236.79,196.88L237.62,167.73L238.51,208.9L239.36,186.15L241.11,157.83L242,155.88L242.88,192.36L243.74,157.34L245.48,172.69L246.37,159.33L247.26,198.01L248.06,170.9L248.95,175.54L249.8,159.85L250.69,183.59L251.55,170.58L252.43,177.26L253.32,197.98L254.18,157L255.07,188.77L255.92,190.45L256.81,169.04L257.7,211.53L258.5,185.66L259.38,194.89L260.24,175.52L261.13,222.55L261.99,187.2L262.87,190.57L263.76,206L264.62,197.35L265.5,222.68L267.25,170.86L268.13,208.71L268.93,205.46L269.82,191.04L270.68,157.52L271.57,190.52L272.42,171.84L273.31,186.64L275.05,223.91L275.94,203.05L277.69,216.12L278.57,205.47L279.4,183.46L280.29,185.04L281.15,187.04L282.03,210.67L282.89,194.26L283.78,198.92L284.66,220.88L285.52,201.71L286.41,202.66L287.27,207.69L289.04,249.89L289.84,229.71L290.73,238.88L291.58,237.51L292.47,231.84L293.33,232.59L294.22,228.09L295.1,245.83L295.96,237.26L296.85,243.35L298.59,222.17L299.48,245.68L302.02,209.98L302.91,212.59L303.77,205.32L304.65,224.5L305.54,231.05L306.4,223.33L307.28,227.63L308.14,215.41L309.03,222.43L309.92,239.81L310.72,214.28L311.6,215.87L312.46,203.65L313.35,206.46L314.21,205.65L315.09,212.55L315.98,230.32L316.84,226.84L317.72,226.54L318.58,204.62L319.47,204.97L320.35,222.53L321.18,208.76L322.07,214.19L323.81,205.3L324.67,201.28L326.45,218.91L327.3,216.3L328.19,216.6L329.05,191.88L329.93,197.63L330.82,215.85L331.62,202.44L332.51,209.93L333.37,193.18L334.25,196.88L335.11,191.04L336,202.69L336.88,219.72L337.74,215.53L338.63,215.66L339.49,200.84L340.37,182.28L341.26,209.79L342.06,197.45L342.95,196.51L343.8,184.54L344.69,188.63L345.55,190.23L346.44,199.9L347.32,216.76L348.18,211.61L349.07,207.46L349.92,197.1L350.81,182.79L351.7,219.5L352.5,190.05L353.38,194.63L354.24,186.82L355.13,198.03L355.99,192.36L356.87,198.8L357.76,216.46L358.62,208.67L359.5,209.32L360.36,193.59L361.25,175.13L362.14,201.18L362.97,180.81L363.85,182.73L364.71,166.62L365.6,167.9L366.45,170.9L367.34,183.63L368.23,205.09L369.08,196.6L369.97,198.62L370.83,184.07L371.72,180.61L372.6,208.02L373.4,179.69L374.29,178.72L375.15,165.17L376.03,166.22L377.78,176.42L378.67,194.03L379.52,177.17L380.41,175.41L382.15,152.03L383.04,176.82L383.84,147.92L384.73,157.3L386.47,132.18L387.33,141.06L389.1,163.58L389.96,157.15L390.85,149.19L391.71,133.83L392.59,131.1L393.48,151.96L394.28,116.66L395.17,124.04L396.02,116.87L396.91,115.81L397.77,120.97L398.66,133.31L399.54,153.96L400.4,145.9L401.29,138.79L402.14,125.4L403.03,130.23L403.92,156.68L404.75,127.01L405.63,139.2L406.49,123.57L407.38,133.01L408.24,135.81L409.12,142.84L410.01,164.48L410.87,153.91L411.75,153.69L412.61,128.41L413.5,116.38L414.38,150.02L416.07,115.62L416.93,100.86L417.82,110.89L418.67,107.39\" style=\"vector-effect: none; fill: none; stroke: rgb(99, 110, 250); stroke-opacity: 1; stroke-width: 2px; opacity: 1;\"/></g><g class=\"points\"/><g class=\"text\"/></g><g class=\"trace scatter trace9069af\" style=\"stroke-miterlimit: 2; opacity: 1;\"><g class=\"fills\"/><g class=\"errorbars\"/><g class=\"lines\"><path class=\"js-line\" d=\"M419.56,103.73L420.45,144.63L421.3,95.5L422.19,98.48L423.05,98L423.94,97.14L424.82,101.44L426.51,137.27L427.37,121.92L429.11,102.21L430,102.2L430.89,128.85L431.74,104.34L432.63,108.53L433.49,106.96L434.37,117.67L435.26,104.99L436.06,112.25L436.95,130.72L438.69,108.08L439.55,89.17L441.32,105.34L442.18,80.82L443.07,99.68L443.93,93.64L444.81,106.08L445.7,98.29L447.41,126.42L448.27,113.33L449.16,110.98L450.02,71.72L450.9,83.28L451.79,107.42L452.65,57.82L453.53,72.35L454.39,59.87L455.28,71.41L457.85,114.4L458.71,95.77L459.6,97.92L460.46,85.2L461.34,66.44L462.23,92.9L463.09,57.98L463.97,62.93L464.83,50.45L465.72,58.29L466.6,75.66L467.4,75.84L468.29,106.09L469.15,92.56L470.04,92.62L470.89,77.41L471.78,73.63L472.67,103.77L473.52,63.57L474.41,59.62L475.27,46.34L476.16,65.01L477.04,63.92L477.84,75.78L478.73,93.16L479.59,82.83L480.47,91.43L481.33,77.05L482.22,75.27L483.1,80.14L483.96,74.88L484.85,99.94L485.71,69.67L486.59,69.34L488.31,88.1L489.2,112.74L490.94,83.48L491.8,79.12L492.69,76.78L493.57,119L494.43,51.2L495.32,65.26L496.17,46.17L497.06,68.83L497.95,74.74L498.75,72.61L499.63,87.45L500.49,78.55L501.38,72.41L502.24,46.82L503.12,46.02L504.01,68.63L504.87,21.91L505.75,28.7L506.61,16L507.5,29.95L508.39,37.69L509.19,63.73L510.07,87.59L510.93,76.97L511.82,58.82L512.68,61.37L513.56,46.71L514.45,66.71L515.31,30.48L516.19,45.68L517.05,27.79L517.94,63.84L518.82,48.26L519.62,50.83L520.51,80.76L521.37,57.16L522.26,66.48L523.11,56.4L524,64.97\" style=\"vector-effect: none; fill: none; stroke: rgb(239, 85, 59); stroke-opacity: 1; stroke-width: 2px; opacity: 1;\"/></g><g class=\"points\"/><g class=\"text\"/></g><g class=\"trace scatter tracedf8f9e\" style=\"stroke-miterlimit: 2; opacity: 0.8;\"><g class=\"fills\"/><g class=\"errorbars\"/><g class=\"lines\"><path class=\"js-line\" d=\"M419.56,120.99L420.45,117.05L421.3,129.54L423.05,103.74L423.94,100.83L424.82,107.87L425.62,99L427.37,120.99L428.25,119.29L430,110.49L430.89,111.14L431.74,118.96L432.63,111.67L433.49,107.23L434.37,106.92L435.26,116.66L436.06,108.15L436.95,109.94L437.81,119.25L438.69,121.97L439.55,112.18L440.44,102.03L441.32,103.71L442.18,106.07L443.07,93.95L443.93,93.35L444.81,95.44L445.7,101.96L446.53,96.26L448.27,113.27L449.16,114.24L450.02,109.71L450.9,93.83L451.79,92.77L452.65,101.21L454.39,71.55L455.28,69.73L456.17,76.57L456.97,74.35L458.71,95.91L459.6,94.87L460.46,95.76L461.34,92.92L462.23,84.41L463.09,87.26L465.72,59.16L466.6,64.74L467.4,66.26L468.29,71.55L470.04,87.01L470.89,89.39L471.78,82.74L472.67,83.63L473.52,92.54L474.41,80.77L476.16,58.75L477.04,69.16L477.84,63.41L478.73,68.32L480.47,80.68L481.33,83.28L483.1,81.1L483.96,80.08L484.85,80.17L485.71,87.36L487.48,74.11L488.31,75.77L490.05,94.31L490.94,92.24L492.69,84.3L493.57,86.4L494.43,100.21L495.32,76.99L497.06,60.44L497.95,74.1L498.75,66.67L499.63,70.86L501.38,78.4L502.24,75.61L504.01,58.35L504.87,64.77L506.61,34.63L507.5,28.33L508.39,35.51L509.19,31.6L511.82,67.61L512.68,60.78L513.56,63.47L514.45,61.26L515.31,64.14L516.19,47.75L517.05,47.38L517.94,38.21L518.82,54.4L519.62,47.37L520.51,49.71L521.37,60.16L522.26,64.01L523.11,61.11L524,58.87\" style=\"vector-effect: none; fill: none; stroke: rgb(0, 204, 150); stroke-opacity: 1; stroke-width: 2px; opacity: 1;\"/></g><g class=\"points\"/><g class=\"text\"/></g></g></g><g class=\"overplot\"/><path class=\"xlines-above crisp\" d=\"M0,0\" style=\"fill: none;\"/><path class=\"ylines-above crisp\" d=\"M0,0\" style=\"fill: none;\"/><g class=\"overlines-above\"/><g class=\"xaxislayer-above\"><g class=\"xtick\"><text text-anchor=\"middle\" x=\"0\" y=\"433\" transform=\"translate(148.78,0)\" style=\"font-family: 'Open Sans', verdana, arial, sans-serif; font-size: 12px; fill: rgb(42, 63, 95); fill-opacity: 1; white-space: pre; opacity: 1;\">1980</text></g><g class=\"xtick\"><text text-anchor=\"middle\" x=\"0\" y=\"433\" style=\"font-family: 'Open Sans', verdana, arial, sans-serif; font-size: 12px; fill: rgb(42, 63, 95); fill-opacity: 1; white-space: pre; opacity: 1;\" transform=\"translate(253.25,0)\">1990</text></g><g class=\"xtick\"><text text-anchor=\"middle\" x=\"0\" y=\"433\" style=\"font-family: 'Open Sans', verdana, arial, sans-serif; font-size: 12px; fill: rgb(42, 63, 95); fill-opacity: 1; white-space: pre; opacity: 1;\" transform=\"translate(357.69,0)\">2000</text></g><g class=\"xtick\"><text text-anchor=\"middle\" x=\"0\" y=\"433\" style=\"font-family: 'Open Sans', verdana, arial, sans-serif; font-size: 12px; fill: rgb(42, 63, 95); fill-opacity: 1; white-space: pre; opacity: 1;\" transform=\"translate(462.15,0)\">2010</text></g><g class=\"xtick\"><text text-anchor=\"middle\" x=\"0\" y=\"433\" style=\"font-family: 'Open Sans', verdana, arial, sans-serif; font-size: 12px; fill: rgb(42, 63, 95); fill-opacity: 1; white-space: pre; opacity: 1;\" transform=\"translate(566.5899999999999,0)\">2020</text></g></g><g class=\"yaxislayer-above\"><g class=\"ytick\"><text text-anchor=\"end\" x=\"79\" y=\"4.199999999999999\" transform=\"translate(0,393.56)\" style=\"font-family: 'Open Sans', verdana, arial, sans-serif; font-size: 12px; fill: rgb(42, 63, 95); fill-opacity: 1; white-space: pre; opacity: 1;\">200</text></g><g class=\"ytick\"><text text-anchor=\"end\" x=\"79\" y=\"4.199999999999999\" style=\"font-family: 'Open Sans', verdana, arial, sans-serif; font-size: 12px; fill: rgb(42, 63, 95); fill-opacity: 1; white-space: pre; opacity: 1;\" transform=\"translate(0,322.51)\">300</text></g><g class=\"ytick\"><text text-anchor=\"end\" x=\"79\" y=\"4.199999999999999\" style=\"font-family: 'Open Sans', verdana, arial, sans-serif; font-size: 12px; fill: rgb(42, 63, 95); fill-opacity: 1; white-space: pre; opacity: 1;\" transform=\"translate(0,251.47)\">400</text></g><g class=\"ytick\"><text text-anchor=\"end\" x=\"79\" y=\"4.199999999999999\" style=\"font-family: 'Open Sans', verdana, arial, sans-serif; font-size: 12px; fill: rgb(42, 63, 95); fill-opacity: 1; white-space: pre; opacity: 1;\" transform=\"translate(0,180.43)\">500</text></g><g class=\"ytick\"><text text-anchor=\"end\" x=\"79\" y=\"4.199999999999999\" style=\"font-family: 'Open Sans', verdana, arial, sans-serif; font-size: 12px; fill: rgb(42, 63, 95); fill-opacity: 1; white-space: pre; opacity: 1;\" transform=\"translate(0,109.39)\">600</text></g></g><g class=\"overaxes-above\"/></g></g><g class=\"polarlayer\"/><g class=\"smithlayer\"/><g class=\"ternarylayer\"/><g class=\"geolayer\"/><g class=\"funnelarealayer\"/><g class=\"pielayer\"/><g class=\"iciclelayer\"/><g class=\"treemaplayer\"/><g class=\"sunburstlayer\"/><g class=\"glimages\"/><defs id=\"topdefs-696b39\"><g class=\"clips\"/><clipPath id=\"legend696b39\"><rect width=\"74\" height=\"67\" x=\"0\" y=\"0\"/></clipPath></defs><g class=\"layer-above\"><g class=\"imagelayer\"/><g class=\"shapelayer\"/></g><g class=\"infolayer\"><g class=\"legend\" pointer-events=\"all\" transform=\"translate(614.48,100)\"><rect class=\"bg\" shape-rendering=\"crispEdges\" width=\"74\" height=\"67\" x=\"0\" y=\"0\" style=\"stroke: rgb(68, 68, 68); stroke-opacity: 1; fill: rgb(255, 255, 255); fill-opacity: 1; stroke-width: 0px;\"/><g class=\"scrollbox\" transform=\"\" clip-path=\"url(#legend696b39)\"><g class=\"groups\"><g class=\"traces\" transform=\"translate(0,14.5)\" style=\"opacity: 1;\"><text class=\"legendtext\" text-anchor=\"start\" x=\"40\" y=\"4.680000000000001\" style=\"font-family: 'Open Sans', verdana, arial, sans-serif; font-size: 12px; fill: rgb(42, 63, 95); fill-opacity: 1; white-space: pre;\">Train</text><g class=\"layers\" style=\"opacity: 1;\"><g class=\"legendfill\"/><g class=\"legendlines\"><path class=\"js-line\" d=\"M5,0h30\" style=\"fill: none; stroke: rgb(99, 110, 250); stroke-opacity: 1; stroke-width: 2px;\"/></g><g class=\"legendsymbols\"><g class=\"legendpoints\"/></g></g><rect class=\"legendtoggle\" x=\"0\" y=\"-9.5\" width=\"68.6875\" height=\"19\" style=\"fill: rgb(0, 0, 0); fill-opacity: 0;\"/></g><g class=\"traces\" transform=\"translate(0,33.5)\" style=\"opacity: 1;\"><text class=\"legendtext\" text-anchor=\"start\" x=\"40\" y=\"4.680000000000001\" style=\"font-family: 'Open Sans', verdana, arial, sans-serif; font-size: 12px; fill: rgb(42, 63, 95); fill-opacity: 1; white-space: pre;\">Test</text><g class=\"layers\" style=\"opacity: 1;\"><g class=\"legendfill\"/><g class=\"legendlines\"><path class=\"js-line\" d=\"M5,0h30\" style=\"fill: none; stroke: rgb(239, 85, 59); stroke-opacity: 1; stroke-width: 2px;\"/></g><g class=\"legendsymbols\"><g class=\"legendpoints\"/></g></g><rect class=\"legendtoggle\" x=\"0\" y=\"-9.5\" width=\"68.6875\" height=\"19\" style=\"fill: rgb(0, 0, 0); fill-opacity: 0;\"/></g><g class=\"traces\" transform=\"translate(0,52.5)\" style=\"opacity: 1;\"><text class=\"legendtext\" text-anchor=\"start\" x=\"40\" y=\"4.680000000000001\" style=\"font-family: 'Open Sans', verdana, arial, sans-serif; font-size: 12px; fill: rgb(42, 63, 95); fill-opacity: 1; white-space: pre;\">Pred.</text><g class=\"layers\" style=\"opacity: 0.8;\"><g class=\"legendfill\"/><g class=\"legendlines\"><path class=\"js-line\" d=\"M5,0h30\" style=\"fill: none; stroke: rgb(0, 204, 150); stroke-opacity: 1; stroke-width: 2px;\"/></g><g class=\"legendsymbols\"><g class=\"legendpoints\"/></g></g><rect class=\"legendtoggle\" x=\"0\" y=\"-9.5\" width=\"68.6875\" height=\"19\" style=\"fill: rgb(0, 0, 0); fill-opacity: 0;\"/></g></g></g><rect class=\"scrollbar\" rx=\"20\" ry=\"3\" width=\"0\" height=\"0\" x=\"0\" y=\"0\" style=\"fill: rgb(128, 139, 164); fill-opacity: 1;\"/></g><g class=\"g-gtitle\"><text class=\"gtitle\" x=\"35\" y=\"50\" text-anchor=\"start\" dy=\"0em\" style=\"font-family: 'Open Sans', verdana, arial, sans-serif; font-size: 17px; fill: rgb(42, 63, 95); opacity: 1; white-space: pre;\">Predição Energia (BP | N=5)</text></g><g class=\"g-xtitle\"><text class=\"xtitle\" x=\"342\" y=\"460.3\" text-anchor=\"middle\" style=\"font-family: 'Open Sans', verdana, arial, sans-serif; font-size: 14px; fill: rgb(42, 63, 95); opacity: 1; white-space: pre;\">Data</text></g><g class=\"g-ytitle\"><text class=\"ytitle\" transform=\"rotate(-90,39.56875,260)\" x=\"39.56875\" y=\"260\" text-anchor=\"middle\" style=\"font-family: 'Open Sans', verdana, arial, sans-serif; font-size: 14px; fill: rgb(42, 63, 95); opacity: 1; white-space: pre;\">Consumo Energia (Tril. BTUs)</text></g></g></svg>"
      ]
     },
     "metadata": {},
     "output_type": "display_data"
    }
   ],
   "source": [
    "\"\"\"\n",
    "Visualizando a predição da Rede com Backpropagation\n",
    "\"\"\"\n",
    "\n",
    "X = ts_with_lags.drop(['dt', 'Total Renewable Energy'], axis=1)\n",
    "y = ts_with_lags['Total Renewable Energy']\n",
    "\n",
    "X_plot_train = pd.DataFrame(X_train, columns=X.columns)\n",
    "X_plot_train[\"dt\"] = ts_with_lags[ts_with_lags.index < X_plot_train.shape[0]][\"dt\"]\n",
    "X_plot_train[\"Total Renewable Energy\"] = y_train\n",
    "\n",
    "X_plot_test = pd.DataFrame(X_test, columns=X.columns)\n",
    "X_plot_test[\"dt\"] = ts_with_lags[ts_with_lags.index >= X_plot_train.shape[0]][\n",
    "    \"dt\"\n",
    "].reset_index(drop=True)\n",
    "X_plot_test[\"Total Renewable Energy\"] = y_test.reset_index(drop=True)\n",
    "\n",
    "fig = go.Figure()\n",
    "fig.add_trace(\n",
    "    go.Scatter(\n",
    "        x=X_plot_train[\"dt\"],\n",
    "        y=X_plot_train[\"Total Renewable Energy\"],\n",
    "        mode=\"lines\",\n",
    "        name=\"Train\",\n",
    "        opacity=1,\n",
    "    )\n",
    ")\n",
    "fig.add_trace(\n",
    "    go.Scatter(\n",
    "        x=X_plot_test[\"dt\"],\n",
    "        y=X_plot_test[\"Total Renewable Energy\"],\n",
    "        mode=\"lines\",\n",
    "        name=\"Test\",\n",
    "        opacity=1,\n",
    "    )\n",
    ")\n",
    "fig.add_trace(go.Scatter(x=X_plot_test[\"dt\"], y=final_predictions, mode=\"lines\", name=\"Pred.\", opacity=0.8,))\n",
    "fig.update_layout(title=f\"Predição Energia (BP | N={LAG_FEATURES})\", yaxis_title=\"Consumo Energia (Tril. BTUs)\", xaxis_title=\"Data\")\n",
    "fig.show(\"svg\")"
   ]
  },
  {
   "cell_type": "code",
   "execution_count": 34,
   "metadata": {},
   "outputs": [],
   "source": [
    "from src.pso import NeuralNetwork, PSO, fitness\n",
    "network = NeuralNetwork(LAG_FEATURES, best_hidden_neurons, output_size=1)"
   ]
  },
  {
   "cell_type": "code",
   "execution_count": 35,
   "metadata": {},
   "outputs": [
    {
     "name": "stdout",
     "output_type": "stream",
     "text": [
      "Run 1 of 5\n",
      "Iteration 300/300 - RMSE: 32.417679396574164\n",
      "Run 2 of 5\n",
      "Iteration 300/300 - RMSE: 30.882058221774958\n",
      "Run 3 of 5\n",
      "Iteration 200/300 - RMSE: 29.862014654866506\r"
     ]
    }
   ],
   "source": [
    "pso_histories = []\n",
    "pso_best_rmse = 1e9\n",
    "pso_best_weights = None\n",
    "\n",
    "for i in range(PSO_NUM_RUNS):\n",
    "    print(f\"Run {i + 1} of {PSO_NUM_RUNS}\")\n",
    "    pso = PSO(\n",
    "        network,\n",
    "        X_train,\n",
    "        y_train,\n",
    "        num_particles=PSO_NUM_PARTICLES,\n",
    "        max_iter=PSO_MAX_ITER,\n",
    "        w=PSO_w,\n",
    "        c1=PSO_c1,\n",
    "        c2=PSO_c2,\n",
    "    )\n",
    "    pso.optimize()\n",
    "    pso_histories.append(pso.history)\n",
    "    if pso.best_weights_fitness < pso_best_rmse:\n",
    "        pso_best_rmse = pso.best_weights_fitness\n",
    "        pso_best_weights = pso.best_weights\n",
    "    print()\n",
    "\n",
    "print(f\"Best RMSE: {pso_best_rmse}\")\n",
    "\n",
    "\"\"\"\n",
    "Salvando os resultados\n",
    "\"\"\"\n",
    "if not os.path.exists(\"results/PSO\"):\n",
    "    os.makedirs(\"results/PSO\")\n",
    "\n",
    "pd.DataFrame({\"rmse\": pso_histories[0], \"iteration\": range(len(pso_histories[0]))}).to_csv(f\"results/PSO/pso_energy_{LAG_FEATURES}.csv\", index=False)\n",
    "    "
   ]
  },
  {
   "cell_type": "code",
   "execution_count": null,
   "metadata": {},
   "outputs": [
    {
     "data": {
      "image/svg+xml": [
       "<svg class=\"main-svg\" xmlns=\"http://www.w3.org/2000/svg\" xmlns:xlink=\"http://www.w3.org/1999/xlink\" width=\"700\" height=\"500\" style=\"\" viewBox=\"0 0 700 500\"><rect x=\"0\" y=\"0\" width=\"700\" height=\"500\" style=\"fill: rgb(255, 255, 255); fill-opacity: 1;\"/><defs id=\"defs-a9dc89\"><g class=\"clips\"><clipPath id=\"clipa9dc89xyplot\" class=\"plotclip\"><rect width=\"520\" height=\"320\"/></clipPath><clipPath class=\"axesclip\" id=\"clipa9dc89x\"><rect x=\"80\" y=\"0\" width=\"520\" height=\"500\"/></clipPath><clipPath class=\"axesclip\" id=\"clipa9dc89y\"><rect x=\"0\" y=\"100\" width=\"700\" height=\"320\"/></clipPath><clipPath class=\"axesclip\" id=\"clipa9dc89xy\"><rect x=\"80\" y=\"100\" width=\"520\" height=\"320\"/></clipPath></g><g class=\"gradients\"/><g class=\"patterns\"/></defs><g class=\"bglayer\"><rect class=\"bg\" x=\"80\" y=\"100\" width=\"520\" height=\"320\" style=\"fill: rgb(229, 236, 246); fill-opacity: 1; stroke-width: 0;\"/></g><g class=\"layer-below\"><g class=\"imagelayer\"/><g class=\"shapelayer\"/></g><g class=\"cartesianlayer\"><g class=\"subplot xy\"><g class=\"layer-subplot\"><g class=\"shapelayer\"/><g class=\"imagelayer\"/></g><g class=\"minor-gridlayer\"><g class=\"x\"/><g class=\"y\"/></g><g class=\"gridlayer\"><g class=\"x\"><path class=\"xgrid crisp\" transform=\"translate(166.95999999999998,0)\" d=\"M0,100v320\" style=\"stroke: rgb(255, 255, 255); stroke-opacity: 1; stroke-width: 1px;\"/><path class=\"xgrid crisp\" transform=\"translate(253.91,0)\" d=\"M0,100v320\" style=\"stroke: rgb(255, 255, 255); stroke-opacity: 1; stroke-width: 1px;\"/><path class=\"xgrid crisp\" transform=\"translate(340.87,0)\" d=\"M0,100v320\" style=\"stroke: rgb(255, 255, 255); stroke-opacity: 1; stroke-width: 1px;\"/><path class=\"xgrid crisp\" transform=\"translate(427.83,0)\" d=\"M0,100v320\" style=\"stroke: rgb(255, 255, 255); stroke-opacity: 1; stroke-width: 1px;\"/><path class=\"xgrid crisp\" transform=\"translate(514.78,0)\" d=\"M0,100v320\" style=\"stroke: rgb(255, 255, 255); stroke-opacity: 1; stroke-width: 1px;\"/></g><g class=\"y\"><path class=\"ygrid crisp\" transform=\"translate(0,374.84)\" d=\"M80,0h520\" style=\"stroke: rgb(255, 255, 255); stroke-opacity: 1; stroke-width: 1px;\"/><path class=\"ygrid crisp\" transform=\"translate(0,322.66999999999996)\" d=\"M80,0h520\" style=\"stroke: rgb(255, 255, 255); stroke-opacity: 1; stroke-width: 1px;\"/><path class=\"ygrid crisp\" transform=\"translate(0,270.49)\" d=\"M80,0h520\" style=\"stroke: rgb(255, 255, 255); stroke-opacity: 1; stroke-width: 1px;\"/><path class=\"ygrid crisp\" transform=\"translate(0,218.32)\" d=\"M80,0h520\" style=\"stroke: rgb(255, 255, 255); stroke-opacity: 1; stroke-width: 1px;\"/><path class=\"ygrid crisp\" transform=\"translate(0,166.14)\" d=\"M80,0h520\" style=\"stroke: rgb(255, 255, 255); stroke-opacity: 1; stroke-width: 1px;\"/><path class=\"ygrid crisp\" transform=\"translate(0,113.97)\" d=\"M80,0h520\" style=\"stroke: rgb(255, 255, 255); stroke-opacity: 1; stroke-width: 1px;\"/></g></g><g class=\"zerolinelayer\"><path class=\"xzl zl crisp\" transform=\"translate(80,0)\" d=\"M0,100v320\" style=\"stroke: rgb(255, 255, 255); stroke-opacity: 1; stroke-width: 2px;\"/></g><g class=\"layer-between\"><g class=\"shapelayer\"/><g class=\"imagelayer\"/></g><path class=\"xlines-below\"/><path class=\"ylines-below\"/><g class=\"overlines-below\"/><g class=\"xaxislayer-below\"/><g class=\"yaxislayer-below\"/><g class=\"overaxes-below\"/><g class=\"plot\" transform=\"translate(80,100)\" clip-path=\"url(#clipa9dc89xyplot)\"><g class=\"scatterlayer mlayer\"><g class=\"trace scatter tracefac325\" style=\"stroke-miterlimit: 2; opacity: 1;\"><g class=\"fills\"/><g class=\"errorbars\"/><g class=\"lines\"><path class=\"js-line\" d=\"M0,19L1.74,19L3.48,26.67L10.43,70L12.17,83.09L15.65,115.02L17.39,141.1L19.13,160.33L20.87,170.22L26.09,238.02L27.83,247.95L29.57,247.95L31.3,258.36L33.04,274.7L34.78,274.7L36.52,286.14L38.26,286.14L40,288.59L41.74,288.59L45.22,288.59L46.96,295.26L48.7,298.83L50.43,299.24L520,299.47\" style=\"vector-effect: none; fill: none; stroke: rgb(99, 110, 250); stroke-opacity: 1; stroke-width: 2px; opacity: 1;\"/></g><g class=\"points\"/><g class=\"text\"/></g><g class=\"trace scatter tracefecd4c\" style=\"stroke-miterlimit: 2; opacity: 1;\"><g class=\"fills\"/><g class=\"errorbars\"/><g class=\"lines\"><path class=\"js-line\" d=\"M0,17.11L1.74,19.6L3.48,25.05L5.22,31.7L6.96,43.74L12.17,114.44L13.91,128.64L15.65,140.87L17.39,173.54L19.13,190.88L20.87,190.88L24.35,190.88L26.09,194.52L27.83,204.63L29.57,208.46L34.78,220.49L36.52,238.35L41.74,238.35L43.48,242.82L45.22,251.31L46.96,255.35L48.7,256.8L50.43,257.04L55.65,257.61L57.39,258.39L59.13,263.96L60.87,263.96L64.35,263.96L66.09,268.76L67.83,271.52L69.57,272.07L71.3,272.07L73.04,276.78L74.78,277.65L76.52,277.65L78.26,277.87L80,279.12L83.48,280.59L85.22,280.95L95.65,281.43L97.39,281.44L234.78,281.48L236.52,281.48L346.09,282L347.83,282.6L361.74,284.48L363.48,284.48L370.43,285.14L372.17,285.33L382.61,285.52L384.35,286.09L393.04,287.22L394.78,287.28L424.35,287.97L426.09,287.97L520,288.71\" style=\"vector-effect: none; fill: none; stroke: rgb(239, 85, 59); stroke-opacity: 1; stroke-width: 2px; opacity: 1;\"/></g><g class=\"points\"/><g class=\"text\"/></g><g class=\"trace scatter tracec93cc5\" style=\"stroke-miterlimit: 2; opacity: 1;\"><g class=\"fills\"/><g class=\"errorbars\"/><g class=\"lines\"><path class=\"js-line\" d=\"M0,18.18L1.74,21.29L3.48,30.81L6.96,45.17L8.7,58.22L15.65,119.74L17.39,129.17L19.13,133.72L20.87,135.69L24.35,166.79L26.09,179.2L27.83,194.26L29.57,219.7L31.3,261.2L33.04,261.2L50.43,261.33L52.17,264.8L53.91,266.15L55.65,266.15L57.39,275.95L59.13,275.95L66.09,275.95L67.83,277.21L69.57,280.47L71.3,280.47L73.04,286.58L74.78,286.58L88.7,286.58L90.43,290.92L104.35,290.92L106.09,291.84L198.26,292.39L200,292.62L203.48,292.97L205.22,293.5L215.65,294.52L217.39,294.52L273.04,295.22L274.78,295.46L351.3,296.18L353.04,296.23L389.57,296.55L391.3,296.55L520,296.67\" style=\"vector-effect: none; fill: none; stroke: rgb(0, 204, 150); stroke-opacity: 1; stroke-width: 2px; opacity: 1;\"/></g><g class=\"points\"/><g class=\"text\"/></g><g class=\"trace scatter trace68f4cb\" style=\"stroke-miterlimit: 2; opacity: 1;\"><g class=\"fills\"/><g class=\"errorbars\"/><g class=\"lines\"><path class=\"js-line\" d=\"M0,16L1.74,19.72L3.48,27.65L5.22,34.88L6.96,46L13.91,103.73L15.65,129.78L19.13,163.57L20.87,192.53L22.61,210.66L24.35,220.19L26.09,225.49L27.83,225.49L29.57,228.57L31.3,242.24L33.04,245.92L34.78,245.92L36.52,245.92L38.26,250.77L40,259.42L41.74,273.32L43.48,277.76L45.22,277.76L55.65,278.41L57.39,278.99L60.87,279.49L62.61,280.63L66.09,281.18L67.83,281.69L69.57,282.02L71.3,283.31L73.04,285.05L74.78,285.49L80,285.91L81.74,287.79L85.22,288.03L86.96,291.87L93.91,291.87L95.65,293.56L104.35,293.83L106.09,295.76L113.04,296.51L114.78,298.45L123.48,298.45L125.22,300.64L144.35,301.18L146.09,302.29L340.87,303.01L342.61,303.11L368.7,303.27L370.43,303.27L520,304\" style=\"vector-effect: none; fill: none; stroke: rgb(171, 99, 250); stroke-opacity: 1; stroke-width: 2px; opacity: 1;\"/></g><g class=\"points\"/><g class=\"text\"/></g><g class=\"trace scatter traceeed103\" style=\"stroke-miterlimit: 2; opacity: 1;\"><g class=\"fills\"/><g class=\"errorbars\"/><g class=\"lines\"><path class=\"js-line\" d=\"M0,17.85L1.74,21.12L3.48,31.53L5.22,40.29L6.96,58.76L12.17,106.79L13.91,116.55L15.65,150.58L17.39,155.06L20.87,193.74L22.61,195.62L27.83,227.78L29.57,235.03L33.04,252.79L34.78,253.67L36.52,290.81L38.26,290.81L50.43,290.9L52.17,296.17L60.87,296.17L62.61,297.32L73.04,298.06L74.78,298.1L104.35,298.58L106.09,300.12L116.52,300.62L118.26,301.25L156.52,301.99L158.26,302.19L520,302.85\" style=\"vector-effect: none; fill: none; stroke: rgb(255, 161, 90); stroke-opacity: 1; stroke-width: 2px; opacity: 1;\"/></g><g class=\"points\"/><g class=\"text\"/></g></g></g><g class=\"overplot\"/><path class=\"xlines-above crisp\" d=\"M0,0\" style=\"fill: none;\"/><path class=\"ylines-above crisp\" d=\"M0,0\" style=\"fill: none;\"/><g class=\"overlines-above\"/><g class=\"xaxislayer-above\"><g class=\"xtick\"><text text-anchor=\"middle\" x=\"0\" y=\"433\" transform=\"translate(80,0)\" style=\"font-family: 'Open Sans', verdana, arial, sans-serif; font-size: 12px; fill: rgb(42, 63, 95); fill-opacity: 1; white-space: pre; opacity: 1;\">0</text></g><g class=\"xtick\"><text text-anchor=\"middle\" x=\"0\" y=\"433\" style=\"font-family: 'Open Sans', verdana, arial, sans-serif; font-size: 12px; fill: rgb(42, 63, 95); fill-opacity: 1; white-space: pre; opacity: 1;\" transform=\"translate(166.95999999999998,0)\">50</text></g><g class=\"xtick\"><text text-anchor=\"middle\" x=\"0\" y=\"433\" style=\"font-family: 'Open Sans', verdana, arial, sans-serif; font-size: 12px; fill: rgb(42, 63, 95); fill-opacity: 1; white-space: pre; opacity: 1;\" transform=\"translate(253.91,0)\">100</text></g><g class=\"xtick\"><text text-anchor=\"middle\" x=\"0\" y=\"433\" style=\"font-family: 'Open Sans', verdana, arial, sans-serif; font-size: 12px; fill: rgb(42, 63, 95); fill-opacity: 1; white-space: pre; opacity: 1;\" transform=\"translate(340.87,0)\">150</text></g><g class=\"xtick\"><text text-anchor=\"middle\" x=\"0\" y=\"433\" style=\"font-family: 'Open Sans', verdana, arial, sans-serif; font-size: 12px; fill: rgb(42, 63, 95); fill-opacity: 1; white-space: pre; opacity: 1;\" transform=\"translate(427.83,0)\">200</text></g><g class=\"xtick\"><text text-anchor=\"middle\" x=\"0\" y=\"433\" style=\"font-family: 'Open Sans', verdana, arial, sans-serif; font-size: 12px; fill: rgb(42, 63, 95); fill-opacity: 1; white-space: pre; opacity: 1;\" transform=\"translate(514.78,0)\">250</text></g></g><g class=\"yaxislayer-above\"><g class=\"ytick\"><text text-anchor=\"end\" x=\"79\" y=\"4.199999999999999\" transform=\"translate(0,374.84)\" style=\"font-family: 'Open Sans', verdana, arial, sans-serif; font-size: 12px; fill: rgb(42, 63, 95); fill-opacity: 1; white-space: pre; opacity: 1;\">50</text></g><g class=\"ytick\"><text text-anchor=\"end\" x=\"79\" y=\"4.199999999999999\" style=\"font-family: 'Open Sans', verdana, arial, sans-serif; font-size: 12px; fill: rgb(42, 63, 95); fill-opacity: 1; white-space: pre; opacity: 1;\" transform=\"translate(0,322.66999999999996)\">100</text></g><g class=\"ytick\"><text text-anchor=\"end\" x=\"79\" y=\"4.199999999999999\" style=\"font-family: 'Open Sans', verdana, arial, sans-serif; font-size: 12px; fill: rgb(42, 63, 95); fill-opacity: 1; white-space: pre; opacity: 1;\" transform=\"translate(0,270.49)\">150</text></g><g class=\"ytick\"><text text-anchor=\"end\" x=\"79\" y=\"4.199999999999999\" style=\"font-family: 'Open Sans', verdana, arial, sans-serif; font-size: 12px; fill: rgb(42, 63, 95); fill-opacity: 1; white-space: pre; opacity: 1;\" transform=\"translate(0,218.32)\">200</text></g><g class=\"ytick\"><text text-anchor=\"end\" x=\"79\" y=\"4.199999999999999\" style=\"font-family: 'Open Sans', verdana, arial, sans-serif; font-size: 12px; fill: rgb(42, 63, 95); fill-opacity: 1; white-space: pre; opacity: 1;\" transform=\"translate(0,166.14)\">250</text></g><g class=\"ytick\"><text text-anchor=\"end\" x=\"79\" y=\"4.199999999999999\" style=\"font-family: 'Open Sans', verdana, arial, sans-serif; font-size: 12px; fill: rgb(42, 63, 95); fill-opacity: 1; white-space: pre; opacity: 1;\" transform=\"translate(0,113.97)\">300</text></g></g><g class=\"overaxes-above\"/></g></g><g class=\"polarlayer\"/><g class=\"smithlayer\"/><g class=\"ternarylayer\"/><g class=\"geolayer\"/><g class=\"funnelarealayer\"/><g class=\"pielayer\"/><g class=\"iciclelayer\"/><g class=\"treemaplayer\"/><g class=\"sunburstlayer\"/><g class=\"glimages\"/><defs id=\"topdefs-a9dc89\"><g class=\"clips\"/><clipPath id=\"legenda9dc89\"><rect width=\"78\" height=\"105\" x=\"0\" y=\"0\"/></clipPath></defs><g class=\"layer-above\"><g class=\"imagelayer\"/><g class=\"shapelayer\"/></g><g class=\"infolayer\"><g class=\"legend\" pointer-events=\"all\" transform=\"translate(610.4,100)\"><rect class=\"bg\" shape-rendering=\"crispEdges\" style=\"stroke: rgb(68, 68, 68); stroke-opacity: 1; fill: rgb(255, 255, 255); fill-opacity: 1; stroke-width: 0px;\" width=\"78\" height=\"105\" x=\"0\" y=\"0\"/><g class=\"scrollbox\" transform=\"\" clip-path=\"url(#legenda9dc89)\"><g class=\"groups\"><g class=\"traces\" transform=\"translate(0,14.5)\" style=\"opacity: 1;\"><text class=\"legendtext\" text-anchor=\"start\" x=\"40\" y=\"4.680000000000001\" style=\"font-family: 'Open Sans', verdana, arial, sans-serif; font-size: 12px; fill: rgb(42, 63, 95); fill-opacity: 1; white-space: pre;\">Run 1</text><g class=\"layers\" style=\"opacity: 1;\"><g class=\"legendfill\"/><g class=\"legendlines\"><path class=\"js-line\" d=\"M5,0h30\" style=\"fill: none; stroke: rgb(99, 110, 250); stroke-opacity: 1; stroke-width: 2px;\"/></g><g class=\"legendsymbols\"><g class=\"legendpoints\"/></g></g><rect class=\"legendtoggle\" x=\"0\" y=\"-9.5\" width=\"72.359375\" height=\"19\" style=\"fill: rgb(0, 0, 0); fill-opacity: 0;\"/></g><g class=\"traces\" transform=\"translate(0,33.5)\" style=\"opacity: 1;\"><text class=\"legendtext\" text-anchor=\"start\" x=\"40\" y=\"4.680000000000001\" style=\"font-family: 'Open Sans', verdana, arial, sans-serif; font-size: 12px; fill: rgb(42, 63, 95); fill-opacity: 1; white-space: pre;\">Run 2</text><g class=\"layers\" style=\"opacity: 1;\"><g class=\"legendfill\"/><g class=\"legendlines\"><path class=\"js-line\" d=\"M5,0h30\" style=\"fill: none; stroke: rgb(239, 85, 59); stroke-opacity: 1; stroke-width: 2px;\"/></g><g class=\"legendsymbols\"><g class=\"legendpoints\"/></g></g><rect class=\"legendtoggle\" x=\"0\" y=\"-9.5\" width=\"72.359375\" height=\"19\" style=\"fill: rgb(0, 0, 0); fill-opacity: 0;\"/></g><g class=\"traces\" transform=\"translate(0,52.5)\" style=\"opacity: 1;\"><text class=\"legendtext\" text-anchor=\"start\" x=\"40\" y=\"4.680000000000001\" style=\"font-family: 'Open Sans', verdana, arial, sans-serif; font-size: 12px; fill: rgb(42, 63, 95); fill-opacity: 1; white-space: pre;\">Run 3</text><g class=\"layers\" style=\"opacity: 1;\"><g class=\"legendfill\"/><g class=\"legendlines\"><path class=\"js-line\" d=\"M5,0h30\" style=\"fill: none; stroke: rgb(0, 204, 150); stroke-opacity: 1; stroke-width: 2px;\"/></g><g class=\"legendsymbols\"><g class=\"legendpoints\"/></g></g><rect class=\"legendtoggle\" x=\"0\" y=\"-9.5\" width=\"72.359375\" height=\"19\" style=\"fill: rgb(0, 0, 0); fill-opacity: 0;\"/></g><g class=\"traces\" transform=\"translate(0,71.5)\" style=\"opacity: 1;\"><text class=\"legendtext\" text-anchor=\"start\" x=\"40\" y=\"4.680000000000001\" style=\"font-family: 'Open Sans', verdana, arial, sans-serif; font-size: 12px; fill: rgb(42, 63, 95); fill-opacity: 1; white-space: pre;\">Run 4</text><g class=\"layers\" style=\"opacity: 1;\"><g class=\"legendfill\"/><g class=\"legendlines\"><path class=\"js-line\" d=\"M5,0h30\" style=\"fill: none; stroke: rgb(171, 99, 250); stroke-opacity: 1; stroke-width: 2px;\"/></g><g class=\"legendsymbols\"><g class=\"legendpoints\"/></g></g><rect class=\"legendtoggle\" x=\"0\" y=\"-9.5\" width=\"72.359375\" height=\"19\" style=\"fill: rgb(0, 0, 0); fill-opacity: 0;\"/></g><g class=\"traces\" transform=\"translate(0,90.5)\" style=\"opacity: 1;\"><text class=\"legendtext\" text-anchor=\"start\" x=\"40\" y=\"4.680000000000001\" style=\"font-family: 'Open Sans', verdana, arial, sans-serif; font-size: 12px; fill: rgb(42, 63, 95); fill-opacity: 1; white-space: pre;\">Run 5</text><g class=\"layers\" style=\"opacity: 1;\"><g class=\"legendfill\"/><g class=\"legendlines\"><path class=\"js-line\" d=\"M5,0h30\" style=\"fill: none; stroke: rgb(255, 161, 90); stroke-opacity: 1; stroke-width: 2px;\"/></g><g class=\"legendsymbols\"><g class=\"legendpoints\"/></g></g><rect class=\"legendtoggle\" x=\"0\" y=\"-9.5\" width=\"72.359375\" height=\"19\" style=\"fill: rgb(0, 0, 0); fill-opacity: 0;\"/></g></g></g><rect class=\"scrollbar\" rx=\"20\" ry=\"3\" width=\"0\" height=\"0\" style=\"fill: rgb(128, 139, 164); fill-opacity: 1;\" x=\"0\" y=\"0\"/></g><g class=\"g-gtitle\"><text class=\"gtitle\" x=\"35\" y=\"50\" text-anchor=\"start\" dy=\"0em\" style=\"font-family: 'Open Sans', verdana, arial, sans-serif; font-size: 17px; fill: rgb(42, 63, 95); opacity: 1; white-space: pre;\">PSO Fitness over Iterations</text></g><g class=\"g-xtitle\"><text class=\"xtitle\" x=\"340\" y=\"460.3\" text-anchor=\"middle\" style=\"font-family: 'Open Sans', verdana, arial, sans-serif; font-size: 14px; fill: rgb(42, 63, 95); opacity: 1; white-space: pre;\">Iteration</text></g><g class=\"g-ytitle\"><text class=\"ytitle\" transform=\"rotate(-90,39.56875,260)\" x=\"39.56875\" y=\"260\" text-anchor=\"middle\" style=\"font-family: 'Open Sans', verdana, arial, sans-serif; font-size: 14px; fill: rgb(42, 63, 95); opacity: 1; white-space: pre;\">Fitness</text></g></g></svg>"
      ]
     },
     "metadata": {},
     "output_type": "display_data"
    }
   ],
   "source": [
    "fig = go.Figure()\n",
    "\n",
    "for i, history in enumerate(pso_histories):\n",
    "    fig.add_trace(go.Scatter(x=list(range(len(history))), y=history, mode=\"lines\", name=f\"Run {i + 1}\"))\n",
    "                  \n",
    "fig.update_layout(title=\"PSO Fitness over Iterations\", xaxis_title=\"Iteration\", yaxis_title=\"Fitness\")\n",
    "fig.show(\"svg\")\n",
    "\n",
    "   "
   ]
  },
  {
   "cell_type": "code",
   "execution_count": null,
   "metadata": {},
   "outputs": [
    {
     "name": "stdout",
     "output_type": "stream",
     "text": [
      "Train RMSE: 23.16065549403366\n"
     ]
    }
   ],
   "source": [
    "\"\"\"\n",
    "Configurações da melhor rede neural\n",
    "\"\"\"\n",
    "best_network = NeuralNetwork(LAG_FEATURES, best_hidden_neurons, output_size=1)\n",
    "best_network.set_weights(pso.best_weights)\n",
    "print('Train RMSE:', fitness(best_network, X_train, y_train))"
   ]
  },
  {
   "cell_type": "code",
   "execution_count": null,
   "metadata": {},
   "outputs": [
    {
     "name": "stdout",
     "output_type": "stream",
     "text": [
      "Test RMSE: 42.6294\n"
     ]
    }
   ],
   "source": [
    "y_pred = np.array([best_network.predict(phi) for phi in X_test])\n",
    "rmse = root_mean_squared_error(y_test, y_pred)\n",
    "print(f\"Test RMSE: {rmse:.4f}\")"
   ]
  },
  {
   "cell_type": "code",
   "execution_count": null,
   "metadata": {},
   "outputs": [
    {
     "data": {
      "image/svg+xml": [
       "<svg class=\"main-svg\" xmlns=\"http://www.w3.org/2000/svg\" xmlns:xlink=\"http://www.w3.org/1999/xlink\" width=\"700\" height=\"500\" style=\"\" viewBox=\"0 0 700 500\"><rect x=\"0\" y=\"0\" width=\"700\" height=\"500\" style=\"fill: rgb(255, 255, 255); fill-opacity: 1;\"/><defs id=\"defs-8b3f18\"><g class=\"clips\"><clipPath id=\"clip8b3f18xyplot\" class=\"plotclip\"><rect width=\"524\" height=\"320\"/></clipPath><clipPath class=\"axesclip\" id=\"clip8b3f18x\"><rect x=\"80\" y=\"0\" width=\"524\" height=\"500\"/></clipPath><clipPath class=\"axesclip\" id=\"clip8b3f18y\"><rect x=\"0\" y=\"100\" width=\"700\" height=\"320\"/></clipPath><clipPath class=\"axesclip\" id=\"clip8b3f18xy\"><rect x=\"80\" y=\"100\" width=\"524\" height=\"320\"/></clipPath></g><g class=\"gradients\"/><g class=\"patterns\"/></defs><g class=\"bglayer\"><rect class=\"bg\" x=\"80\" y=\"100\" width=\"524\" height=\"320\" style=\"fill: rgb(229, 236, 246); fill-opacity: 1; stroke-width: 0;\"/></g><g class=\"layer-below\"><g class=\"imagelayer\"/><g class=\"shapelayer\"/></g><g class=\"cartesianlayer\"><g class=\"subplot xy\"><g class=\"layer-subplot\"><g class=\"shapelayer\"/><g class=\"imagelayer\"/></g><g class=\"minor-gridlayer\"><g class=\"x\"/><g class=\"y\"/></g><g class=\"gridlayer\"><g class=\"x\"><path class=\"xgrid crisp\" transform=\"translate(148.78,0)\" d=\"M0,100v320\" style=\"stroke: rgb(255, 255, 255); stroke-opacity: 1; stroke-width: 1px;\"/><path class=\"xgrid crisp\" transform=\"translate(253.25,0)\" d=\"M0,100v320\" style=\"stroke: rgb(255, 255, 255); stroke-opacity: 1; stroke-width: 1px;\"/><path class=\"xgrid crisp\" transform=\"translate(357.69,0)\" d=\"M0,100v320\" style=\"stroke: rgb(255, 255, 255); stroke-opacity: 1; stroke-width: 1px;\"/><path class=\"xgrid crisp\" transform=\"translate(462.15,0)\" d=\"M0,100v320\" style=\"stroke: rgb(255, 255, 255); stroke-opacity: 1; stroke-width: 1px;\"/><path class=\"xgrid crisp\" transform=\"translate(566.5899999999999,0)\" d=\"M0,100v320\" style=\"stroke: rgb(255, 255, 255); stroke-opacity: 1; stroke-width: 1px;\"/></g><g class=\"y\"><path class=\"ygrid crisp\" transform=\"translate(0,394.42)\" d=\"M80,0h524\" style=\"stroke: rgb(255, 255, 255); stroke-opacity: 1; stroke-width: 1px;\"/><path class=\"ygrid crisp\" transform=\"translate(0,329.25)\" d=\"M80,0h524\" style=\"stroke: rgb(255, 255, 255); stroke-opacity: 1; stroke-width: 1px;\"/><path class=\"ygrid crisp\" transform=\"translate(0,264.07)\" d=\"M80,0h524\" style=\"stroke: rgb(255, 255, 255); stroke-opacity: 1; stroke-width: 1px;\"/><path class=\"ygrid crisp\" transform=\"translate(0,198.9)\" d=\"M80,0h524\" style=\"stroke: rgb(255, 255, 255); stroke-opacity: 1; stroke-width: 1px;\"/><path class=\"ygrid crisp\" transform=\"translate(0,133.73)\" d=\"M80,0h524\" style=\"stroke: rgb(255, 255, 255); stroke-opacity: 1; stroke-width: 1px;\"/></g></g><g class=\"zerolinelayer\"/><g class=\"layer-between\"><g class=\"shapelayer\"/><g class=\"imagelayer\"/></g><path class=\"xlines-below\"/><path class=\"ylines-below\"/><g class=\"overlines-below\"/><g class=\"xaxislayer-below\"/><g class=\"yaxislayer-below\"/><g class=\"overaxes-below\"/><g class=\"plot\" transform=\"translate(80,100)\" clip-path=\"url(#clip8b3f18xyplot)\"><g class=\"scatterlayer mlayer\"><g class=\"trace scatter tracef222b6\" style=\"stroke-miterlimit: 2; opacity: 1;\"><g class=\"fills\"/><g class=\"errorbars\"/><g class=\"lines\"><path class=\"js-line\" d=\"M0,289.04L0.86,289.34L1.74,292.18L2.63,304L3.49,298.65L4.38,297.47L5.23,280.89L6.12,274.21L7.01,287.78L7.81,277.22L8.69,279.29L9.55,276.31L10.44,282.05L11.3,280.14L12.18,285.17L13.07,293.83L13.93,294.22L14.81,294.38L15.67,287.22L16.56,285.09L17.44,295.72L18.25,278.53L19.13,284.2L19.99,278.98L20.88,282.82L21.73,283.86L22.62,290.31L23.51,297.72L24.37,290.19L25.25,288.92L26.11,282.75L27,270.91L27.88,280.49L28.71,269.78L29.6,278.29L30.46,272.21L31.34,275.13L32.2,270.97L33.09,275.95L33.97,286.82L34.83,282.15L35.72,287.92L36.58,283.84L37.46,275.58L38.35,297.99L39.15,277.62L40.04,283.6L40.9,280.2L41.78,286.76L42.64,284.58L43.53,284.73L44.41,288.57L45.27,283.52L46.16,279.65L47.02,271.12L47.9,254.87L48.79,272.31L49.59,256.06L50.48,258.39L51.33,247.04L52.22,258.77L53.08,256.58L53.96,261.41L54.85,267.38L55.71,267.64L56.6,270.17L57.45,261.65L58.34,248.8L59.23,268.76L60.03,246.53L60.91,251.71L61.77,239.85L62.66,252.63L63.52,253.76L64.4,257L65.29,266.09L66.15,259.51L67.03,258.37L67.89,253.6L68.78,230.41L69.66,248.02L70.49,232.55L71.38,233.78L72.24,222.28L73.12,229.49L73.98,232.16L74.87,241.09L75.76,249.97L76.61,246.81L77.5,248.2L78.36,236.98L79.24,229.96L80.13,246.79L80.93,233.88L81.82,238.23L82.68,226.17L83.56,225.79L84.42,223.87L85.31,231.78L86.19,244.78L87.05,239.6L87.94,242.4L88.8,226.89L89.68,217.02L90.57,231.81L91.37,210.62L92.26,219.68L93.11,214.66L94,219.27L94.86,216.02L95.75,223.7L96.63,237.36L97.49,232.83L98.38,229.66L99.23,215.23L100.12,199.2L101.01,217.76L101.81,196.95L102.7,202.81L103.55,195.05L104.44,201.07L105.3,201.55L106.18,206.33L107.07,220.78L107.93,217.74L108.82,214.25L109.67,193.68L110.56,195.29L111.45,209.72L112.28,193.36L113.16,199.68L114.02,190.33L114.91,202.37L115.76,200L116.65,205.02L117.54,219.79L118.4,214.34L119.28,216.35L120.14,203.08L121.03,196.85L121.91,216.7L122.71,203.27L123.6,209.58L124.46,199.65L125.34,210.76L126.2,210.89L127.09,213.74L127.98,221.9L128.83,213.9L129.72,212.22L130.58,201.4L132.35,226.94L133.15,199.84L134.04,207.24L134.9,202.72L135.78,209.88L136.64,209.4L138.41,221.55L139.27,216.05L140.16,217.22L141.02,205.19L141.9,210.17L142.79,234.76L143.59,214.95L144.48,222.86L145.33,212.83L146.22,224.99L147.08,221.5L147.97,225.48L148.85,231.42L149.71,226.98L150.6,234.46L151.45,219.93L152.34,210.41L153.23,227.8L154.06,216L154.94,222.25L155.8,212.4L156.69,222.66L157.55,221.62L158.43,222.68L159.32,228.6L160.18,225.95L161.06,223.85L161.92,215.36L162.81,201.52L163.69,221.2L164.5,195.14L165.38,202.58L166.24,200.23L167.13,200.47L167.98,199.31L168.87,195.01L169.76,205.81L170.62,196.08L171.5,193.97L172.36,188.99L174.13,218.28L174.93,197.43L177.56,239.47L178.42,222.25L179.31,211.36L180.2,224.69L181.05,224.2L181.94,231.26L183.68,187.33L184.57,237.63L185.37,221.6L186.26,237.36L187.12,220.01L188,224.25L188.86,227.09L189.75,206.53L190.63,203.59L191.49,217.19L192.38,220.78L193.24,196.83L194.12,190.26L195.01,229.76L195.84,226.29L196.73,238.67L197.58,245.15L198.47,218.16L200.21,202.69L201.1,217.85L203.7,194.42L204.59,186.83L205.48,219.33L206.28,195.6L208.02,225.65L208.91,231.41L209.77,227.8L210.65,203.27L211.54,217.8L212.4,213.96L213.28,209.56L214.14,201.08L215.03,177.35L215.91,218.58L216.72,199.45L217.6,212.59L218.46,232.21L219.35,225.49L220.2,191.06L221.09,212.89L221.98,230.55L222.84,206.68L223.72,210.73L224.58,204.22L225.47,211.95L226.35,235.49L228.04,195.87L228.9,213.59L229.78,207.77L230.64,169.04L231.53,169.7L232.42,202.27L233.27,179.84L234.16,191.52L235.02,187.84L235.9,179.09L236.79,205.73L237.62,178.99L238.51,216.76L239.36,195.89L241.11,169.9L242,168.12L242.88,201.58L243.74,169.46L245.48,183.54L246.37,171.28L247.26,206.77L248.06,181.89L248.95,186.16L249.8,171.76L250.69,193.54L251.55,181.6L252.43,187.73L253.32,206.74L254.18,169.15L255.07,198.29L255.92,199.83L256.81,180.19L257.7,219.17L258.5,195.44L259.38,203.9L260.24,186.13L261.13,229.28L261.99,196.85L262.87,199.94L263.76,214.1L264.62,206.16L265.5,229.4L267.25,181.86L268.13,216.58L268.93,213.6L269.82,200.37L270.68,169.62L271.57,199.89L272.42,182.76L273.31,196.33L275.05,230.53L275.94,211.39L277.69,223.38L278.57,213.61L279.4,193.42L280.29,194.87L281.15,196.71L282.03,218.38L282.89,203.33L283.78,207.6L284.66,227.74L285.52,210.16L286.41,211.03L287.27,215.65L289.04,254.36L289.84,235.85L290.73,244.26L291.58,243.01L292.47,237.81L293.33,238.49L294.22,234.36L295.1,250.64L295.96,242.77L296.85,248.36L298.59,228.93L299.48,250.5L302.02,217.74L302.91,220.14L303.77,213.47L304.65,231.07L305.54,237.08L306.4,229.99L307.28,233.94L308.14,222.73L309.03,229.17L309.92,245.11L310.72,221.69L311.6,223.15L312.46,211.94L313.35,214.52L314.21,213.78L315.09,220.11L315.98,236.41L316.84,233.22L317.72,232.94L318.58,212.83L319.47,213.15L320.35,229.26L321.18,216.63L322.07,221.61L323.81,213.45L324.67,209.77L326.45,225.94L327.3,223.55L328.19,223.82L329.05,201.14L329.93,206.42L330.82,223.13L331.62,210.83L332.51,217.7L333.37,202.33L334.25,205.73L335.11,200.38L336,211.06L336.88,226.68L337.74,222.84L338.63,222.96L339.49,209.37L340.37,192.33L341.26,217.57L342.06,206.25L342.95,205.39L343.8,194.41L344.69,198.16L345.55,199.63L346.44,208.5L347.32,223.96L348.18,219.25L349.07,215.44L349.92,205.93L350.81,192.81L351.7,226.48L352.5,199.47L353.38,203.67L354.24,196.5L355.13,206.79L355.99,201.58L356.87,207.49L357.76,223.7L358.62,216.54L359.5,217.14L360.36,202.71L361.25,185.78L362.14,209.67L362.97,190.99L363.85,192.75L364.71,177.97L365.6,179.14L366.45,181.9L367.34,193.58L368.23,213.26L369.08,205.47L369.97,207.32L370.83,193.98L371.72,190.81L372.6,215.95L373.4,189.96L374.29,189.07L375.15,176.64L376.03,177.6L377.78,186.96L378.67,203.12L379.52,187.65L380.41,186.03L382.15,164.59L383.04,187.33L383.84,160.81L384.73,169.42L386.47,146.38L387.33,154.53L389.1,175.18L389.96,169.28L390.85,161.98L391.71,147.89L392.59,145.38L393.48,164.52L394.28,132.13L395.17,138.91L396.02,132.33L396.91,131.36L397.77,136.09L398.66,147.41L399.54,166.36L400.4,158.96L401.29,152.44L402.14,140.16L403.03,144.59L403.92,168.85L404.75,141.63L405.63,152.81L406.49,138.48L407.38,147.14L408.24,149.71L409.12,156.15L410.01,176.01L410.87,166.31L411.75,166.11L412.61,142.92L413.5,131.88L414.38,162.74L416.07,131.18L416.93,117.64L417.82,126.84L418.67,123.63\" style=\"vector-effect: none; fill: none; stroke: rgb(99, 110, 250); stroke-opacity: 1; stroke-width: 2px; opacity: 1;\"/></g><g class=\"points\"/><g class=\"text\"/></g><g class=\"trace scatter trace7fd546\" style=\"stroke-miterlimit: 2; opacity: 0.8;\"><g class=\"fills\"/><g class=\"errorbars\"/><g class=\"lines\"><path class=\"js-line\" d=\"M419.56,120.28L420.45,157.8L421.3,112.73L422.19,115.46L423.05,115.02L423.94,114.23L424.82,118.17L426.51,151.05L427.37,136.96L429.11,118.89L430,118.87L430.89,143.32L431.74,120.83L432.63,124.68L433.49,123.24L434.37,133.06L435.26,121.43L436.06,128.09L436.95,145.03L438.69,124.27L439.55,106.92L441.32,121.75L442.18,99.26L443.07,116.56L443.93,111.02L444.81,122.43L445.7,115.29L447.41,141.09L448.27,129.08L449.16,126.93L450.02,90.91L450.9,101.51L451.79,123.67L452.65,78.16L453.53,91.49L454.39,80.04L455.28,90.63L457.85,130.07L458.71,112.98L459.6,114.95L460.46,103.28L461.34,86.07L462.23,110.34L463.09,78.31L463.97,82.84L464.83,71.4L465.72,78.59L466.6,94.52L467.4,94.69L468.29,122.44L469.15,110.03L470.04,110.09L470.89,96.13L471.78,92.67L472.67,120.31L473.52,83.44L474.41,79.81L475.27,67.63L476.16,84.75L477.04,83.75L477.84,94.63L478.73,110.58L479.59,101.1L480.47,108.99L481.33,95.8L482.22,94.17L483.1,98.64L483.96,93.81L484.85,116.8L485.71,89.03L486.59,88.73L488.31,105.93L489.2,128.54L490.94,101.7L491.8,97.7L492.69,95.55L493.57,134.28L494.43,72.08L495.32,84.98L496.17,67.48L497.06,88.26L497.95,93.68L498.75,91.73L499.63,105.35L500.49,97.18L501.38,91.54L502.24,68.07L503.12,67.34L504.01,88.08L504.87,45.22L505.75,51.44L506.61,39.8L507.5,52.59L508.39,59.69L509.19,83.58L510.07,105.47L510.93,95.73L511.82,79.07L512.68,81.42L513.56,67.97L514.45,86.32L515.31,53.08L516.19,67.02L517.05,50.61L517.94,83.68L518.82,69.39L519.62,71.75L520.51,99.2L521.37,77.55L522.26,86.1L523.11,76.86L524,84.72\" style=\"vector-effect: none; fill: none; stroke: rgb(239, 85, 59); stroke-opacity: 1; stroke-width: 2px; opacity: 1;\"/></g><g class=\"points\"/><g class=\"text\"/></g><g class=\"trace scatter trace2cd752\" style=\"stroke-miterlimit: 2; opacity: 1;\"><g class=\"fills\"/><g class=\"errorbars\"/><g class=\"lines\"><path class=\"js-line\" d=\"M419.56,129.29L420.45,123.66L421.3,152.29L422.19,104.91L423.05,105.85L423.94,112.83L424.82,109.45L425.62,104.08L426.51,118.92L427.37,131.61L428.25,117.39L429.11,116.41L430,119.03L430.89,119.42L431.74,134.81L432.63,108.1L433.49,111.59L435.26,124.95L436.06,110.01L436.95,117.61L437.81,134.44L440.44,105.42L441.32,114.29L442.18,114.79L443.07,86.04L443.93,101.98L444.81,98.64L445.7,105.5L446.53,97L448.27,125.33L449.16,113.22L450.02,114.05L450.9,88.05L452.65,115.18L453.53,61.78L454.39,72.9L455.28,68.57L456.97,75.42L457.85,86.27L458.71,98.3L459.6,87.78L460.46,98.91L461.34,95.3L462.23,78.32L463.09,98.71L463.97,63.4L464.83,62.76L465.72,54.64L466.6,58.35L467.4,66.04L468.29,62.62L469.15,87.64L470.04,79.43L470.89,85.99L471.78,81.17L472.67,82.35L473.52,104.79L474.41,64.29L475.27,60.02L476.16,55.23L477.04,68.03L477.84,55.71L478.73,62.07L479.59,77.09L480.47,71.25L481.33,82.95L482.22,77.26L483.1,78.32L483.96,82.49L484.85,75.45L485.71,93.7L486.59,66.21L487.48,68.83L490.05,99.81L490.94,83.41L491.8,81.89L492.69,88.57L493.57,86.4L494.43,114.83L495.32,50.24L496.17,67.03L497.06,57.48L497.95,71.01L499.63,59.78L500.49,73.91L502.24,68.93L503.12,51.02L504.01,52.86L504.87,67.79L505.75,18.33L506.61,22.04L507.5,16L508.39,21L509.19,17.79L510.07,37.73L510.93,55.68L511.82,50.51L512.68,45.35L513.56,62.73L514.45,51.72L515.31,62.66L516.19,26.59L517.05,39.2L517.94,24.49L518.82,51.17L519.62,30L520.51,33.7L521.37,63.5L522.26,45.63L523.11,53.21L524,52.05\" style=\"vector-effect: none; fill: none; stroke: rgb(0, 204, 150); stroke-opacity: 1; stroke-width: 2px; opacity: 1;\"/></g><g class=\"points\"/><g class=\"text\"/></g></g></g><g class=\"overplot\"/><path class=\"xlines-above crisp\" d=\"M0,0\" style=\"fill: none;\"/><path class=\"ylines-above crisp\" d=\"M0,0\" style=\"fill: none;\"/><g class=\"overlines-above\"/><g class=\"xaxislayer-above\"><g class=\"xtick\"><text text-anchor=\"middle\" x=\"0\" y=\"433\" transform=\"translate(148.78,0)\" style=\"font-family: 'Open Sans', verdana, arial, sans-serif; font-size: 12px; fill: rgb(42, 63, 95); fill-opacity: 1; white-space: pre; opacity: 1;\">1980</text></g><g class=\"xtick\"><text text-anchor=\"middle\" x=\"0\" y=\"433\" style=\"font-family: 'Open Sans', verdana, arial, sans-serif; font-size: 12px; fill: rgb(42, 63, 95); fill-opacity: 1; white-space: pre; opacity: 1;\" transform=\"translate(253.25,0)\">1990</text></g><g class=\"xtick\"><text text-anchor=\"middle\" x=\"0\" y=\"433\" style=\"font-family: 'Open Sans', verdana, arial, sans-serif; font-size: 12px; fill: rgb(42, 63, 95); fill-opacity: 1; white-space: pre; opacity: 1;\" transform=\"translate(357.69,0)\">2000</text></g><g class=\"xtick\"><text text-anchor=\"middle\" x=\"0\" y=\"433\" style=\"font-family: 'Open Sans', verdana, arial, sans-serif; font-size: 12px; fill: rgb(42, 63, 95); fill-opacity: 1; white-space: pre; opacity: 1;\" transform=\"translate(462.15,0)\">2010</text></g><g class=\"xtick\"><text text-anchor=\"middle\" x=\"0\" y=\"433\" style=\"font-family: 'Open Sans', verdana, arial, sans-serif; font-size: 12px; fill: rgb(42, 63, 95); fill-opacity: 1; white-space: pre; opacity: 1;\" transform=\"translate(566.5899999999999,0)\">2020</text></g></g><g class=\"yaxislayer-above\"><g class=\"ytick\"><text text-anchor=\"end\" x=\"79\" y=\"4.199999999999999\" transform=\"translate(0,394.42)\" style=\"font-family: 'Open Sans', verdana, arial, sans-serif; font-size: 12px; fill: rgb(42, 63, 95); fill-opacity: 1; white-space: pre; opacity: 1;\">200</text></g><g class=\"ytick\"><text text-anchor=\"end\" x=\"79\" y=\"4.199999999999999\" style=\"font-family: 'Open Sans', verdana, arial, sans-serif; font-size: 12px; fill: rgb(42, 63, 95); fill-opacity: 1; white-space: pre; opacity: 1;\" transform=\"translate(0,329.25)\">300</text></g><g class=\"ytick\"><text text-anchor=\"end\" x=\"79\" y=\"4.199999999999999\" style=\"font-family: 'Open Sans', verdana, arial, sans-serif; font-size: 12px; fill: rgb(42, 63, 95); fill-opacity: 1; white-space: pre; opacity: 1;\" transform=\"translate(0,264.07)\">400</text></g><g class=\"ytick\"><text text-anchor=\"end\" x=\"79\" y=\"4.199999999999999\" style=\"font-family: 'Open Sans', verdana, arial, sans-serif; font-size: 12px; fill: rgb(42, 63, 95); fill-opacity: 1; white-space: pre; opacity: 1;\" transform=\"translate(0,198.9)\">500</text></g><g class=\"ytick\"><text text-anchor=\"end\" x=\"79\" y=\"4.199999999999999\" style=\"font-family: 'Open Sans', verdana, arial, sans-serif; font-size: 12px; fill: rgb(42, 63, 95); fill-opacity: 1; white-space: pre; opacity: 1;\" transform=\"translate(0,133.73)\">600</text></g></g><g class=\"overaxes-above\"/></g></g><g class=\"polarlayer\"/><g class=\"smithlayer\"/><g class=\"ternarylayer\"/><g class=\"geolayer\"/><g class=\"funnelarealayer\"/><g class=\"pielayer\"/><g class=\"iciclelayer\"/><g class=\"treemaplayer\"/><g class=\"sunburstlayer\"/><g class=\"glimages\"/><defs id=\"topdefs-8b3f18\"><g class=\"clips\"/><clipPath id=\"legend8b3f18\"><rect width=\"74\" height=\"67\" x=\"0\" y=\"0\"/></clipPath></defs><g class=\"layer-above\"><g class=\"imagelayer\"/><g class=\"shapelayer\"/></g><g class=\"infolayer\"><g class=\"legend\" pointer-events=\"all\" transform=\"translate(614.48,100)\"><rect class=\"bg\" shape-rendering=\"crispEdges\" width=\"74\" height=\"67\" x=\"0\" y=\"0\" style=\"stroke: rgb(68, 68, 68); stroke-opacity: 1; fill: rgb(255, 255, 255); fill-opacity: 1; stroke-width: 0px;\"/><g class=\"scrollbox\" transform=\"\" clip-path=\"url(#legend8b3f18)\"><g class=\"groups\"><g class=\"traces\" transform=\"translate(0,14.5)\" style=\"opacity: 1;\"><text class=\"legendtext\" text-anchor=\"start\" x=\"40\" y=\"4.680000000000001\" style=\"font-family: 'Open Sans', verdana, arial, sans-serif; font-size: 12px; fill: rgb(42, 63, 95); fill-opacity: 1; white-space: pre;\">Train</text><g class=\"layers\" style=\"opacity: 1;\"><g class=\"legendfill\"/><g class=\"legendlines\"><path class=\"js-line\" d=\"M5,0h30\" style=\"fill: none; stroke: rgb(99, 110, 250); stroke-opacity: 1; stroke-width: 2px;\"/></g><g class=\"legendsymbols\"><g class=\"legendpoints\"/></g></g><rect class=\"legendtoggle\" x=\"0\" y=\"-9.5\" width=\"68.6875\" height=\"19\" style=\"fill: rgb(0, 0, 0); fill-opacity: 0;\"/></g><g class=\"traces\" transform=\"translate(0,33.5)\" style=\"opacity: 1;\"><text class=\"legendtext\" text-anchor=\"start\" x=\"40\" y=\"4.680000000000001\" style=\"font-family: 'Open Sans', verdana, arial, sans-serif; font-size: 12px; fill: rgb(42, 63, 95); fill-opacity: 1; white-space: pre;\">Test</text><g class=\"layers\" style=\"opacity: 0.8;\"><g class=\"legendfill\"/><g class=\"legendlines\"><path class=\"js-line\" d=\"M5,0h30\" style=\"fill: none; stroke: rgb(239, 85, 59); stroke-opacity: 1; stroke-width: 2px;\"/></g><g class=\"legendsymbols\"><g class=\"legendpoints\"/></g></g><rect class=\"legendtoggle\" x=\"0\" y=\"-9.5\" width=\"68.6875\" height=\"19\" style=\"fill: rgb(0, 0, 0); fill-opacity: 0;\"/></g><g class=\"traces\" transform=\"translate(0,52.5)\" style=\"opacity: 1;\"><text class=\"legendtext\" text-anchor=\"start\" x=\"40\" y=\"4.680000000000001\" style=\"font-family: 'Open Sans', verdana, arial, sans-serif; font-size: 12px; fill: rgb(42, 63, 95); fill-opacity: 1; white-space: pre;\">Pred.</text><g class=\"layers\" style=\"opacity: 1;\"><g class=\"legendfill\"/><g class=\"legendlines\"><path class=\"js-line\" d=\"M5,0h30\" style=\"fill: none; stroke: rgb(0, 204, 150); stroke-opacity: 1; stroke-width: 2px;\"/></g><g class=\"legendsymbols\"><g class=\"legendpoints\"/></g></g><rect class=\"legendtoggle\" x=\"0\" y=\"-9.5\" width=\"68.6875\" height=\"19\" style=\"fill: rgb(0, 0, 0); fill-opacity: 0;\"/></g></g></g><rect class=\"scrollbar\" rx=\"20\" ry=\"3\" width=\"0\" height=\"0\" x=\"0\" y=\"0\" style=\"fill: rgb(128, 139, 164); fill-opacity: 1;\"/></g><g class=\"g-gtitle\"><text class=\"gtitle\" x=\"35\" y=\"50\" text-anchor=\"start\" dy=\"0em\" style=\"font-family: 'Open Sans', verdana, arial, sans-serif; font-size: 17px; fill: rgb(42, 63, 95); opacity: 1; white-space: pre;\">Predição Energia (PSO | N=3)</text></g><g class=\"g-xtitle\"><text class=\"xtitle\" x=\"342\" y=\"460.3\" text-anchor=\"middle\" style=\"font-family: 'Open Sans', verdana, arial, sans-serif; font-size: 14px; fill: rgb(42, 63, 95); opacity: 1; white-space: pre;\">Data</text></g><g class=\"g-ytitle\"><text class=\"ytitle\" transform=\"rotate(-90,39.56875,260)\" x=\"39.56875\" y=\"260\" text-anchor=\"middle\" style=\"font-family: 'Open Sans', verdana, arial, sans-serif; font-size: 14px; fill: rgb(42, 63, 95); opacity: 1; white-space: pre;\">Consumo Energia (Tril. BTUs)</text></g></g></svg>"
      ]
     },
     "metadata": {},
     "output_type": "display_data"
    }
   ],
   "source": [
    "\"\"\"\n",
    "Visualizando a predição da Rede com PSO\n",
    "\"\"\"\n",
    "\n",
    "\n",
    "X_plot_train = pd.DataFrame(X_train, columns=X.columns)\n",
    "X_plot_train['dt'] = ts_with_lags[ts_with_lags.index < X_plot_train.shape[0]]['dt']\n",
    "X_plot_train['Total Renewable Energy'] = y_train\n",
    "\n",
    "X_plot_test = pd.DataFrame(X_test, columns=X.columns)\n",
    "X_plot_test['dt'] = ts_with_lags[ts_with_lags.index >= X_plot_train.shape[0]]['dt'].reset_index(drop=True)\n",
    "X_plot_test['Total Renewable Energy'] = y_test.reset_index(drop=True)\n",
    "\n",
    "fig = go.Figure()\n",
    "fig.add_trace(go.Scatter(x=X_plot_train['dt'], y=X_plot_train['Total Renewable Energy'], mode='lines', name='Train'))\n",
    "fig.add_trace(go.Scatter(x=X_plot_test['dt'], y=X_plot_test['Total Renewable Energy'], mode='lines', name='Test', opacity=0.8))\n",
    "fig.add_trace(go.Scatter(x=X_plot_test['dt'], y=pd.Series(y_pred.flatten()), mode='lines', name='Pred.'))\n",
    "fig.update_layout(title=\"Predição Energia (PSO | N=3)\", yaxis_title=\"Consumo Energia (Tril. BTUs)\", xaxis_title=\"Data\")\n",
    "fig.show('svg')"
   ]
  }
 ],
 "metadata": {
  "kernelspec": {
   "display_name": "Python 3",
   "language": "python",
   "name": "python3"
  },
  "language_info": {
   "codemirror_mode": {
    "name": "ipython",
    "version": 3
   },
   "file_extension": ".py",
   "mimetype": "text/x-python",
   "name": "python",
   "nbconvert_exporter": "python",
   "pygments_lexer": "ipython3",
   "version": "3.10.12"
  }
 },
 "nbformat": 4,
 "nbformat_minor": 2
}
